{
    "metadata": {
        "kernelspec": {
            "name": "SQL",
            "display_name": "SQL",
            "language": "sql"
        },
        "language_info": {
            "name": "sql",
            "version": ""
        }
    },
    "nbformat_minor": 2,
    "nbformat": 4,
    "cells": [
        {
            "cell_type": "markdown",
            "source": [
                "# **Tesla Car Sales Data Analysis Project**"
            ],
            "metadata": {
                "azdata_cell_guid": "b70f726b-4391-447e-95f9-240546b59c83"
            },
            "attachments": {}
        },
        {
            "cell_type": "markdown",
            "source": [
                "# **Introduction**\r\n",
                "The purpose of this analysis is to gain valuable insights and patterns within Tesla car sales data. By thoroughly examining sales data across various regions, products, and time frames, we aim to identify top-performing products, high-performing regions, and the most profitable time periods. These findings will help optimize our sales strategies and enhance overall performance to drive substantial revenue growth."
            ],
            "metadata": {
                "azdata_cell_guid": "66248106-09df-49aa-94d4-a1531ca88efe"
            },
            "attachments": {}
        },
        {
            "cell_type": "markdown",
            "source": [
                "# **Data Description**\r\n",
                "\r\n",
                "The dataset used in this analysis was obtained from the Kaggle website and contains 85,592 rows and 7 columns. The columns include Model, Period, Country, Purchase_type, Version, Price, and Gross_Profit, providing comprehensive information about the cars sold by the company.\r\n",
                "\r\n",
                "**Data Dictionary:**\r\n",
                "\r\n",
                "The dataset consists of 7 columns with their corresponding data types:\r\n",
                "\r\n",
                "| Column Name                | Column Datatype |\r\n",
                "| :------------------------- | :-------------: |\r\n",
                "| Model                      |  VARCHAR(50)    |\r\n",
                "| Period                     |     DATE        |\r\n",
                "| Country                    |  VARCHAR(50)    |\r\n",
                "| Purchase_type              |  VARCHAR(50)    |\r\n",
                "| Version                    |  VARCHAR(50)    |\r\n",
                "| Price                      |  DECIMAL(10,3)  |\r\n",
                "| Gross_Profit               |  DECIMAL(10,3)  |\r\n",
                ""
            ],
            "metadata": {
                "azdata_cell_guid": "fa698bd4-0ed8-4b1f-8a7b-e7e813476dad"
            },
            "attachments": {}
        },
        {
            "cell_type": "markdown",
            "source": [
                "# **Methodology**\r\n",
                "\r\n",
                "1. **Data Collection:**\r\n",
                "  - The dataset used for this analysis was sourced from the Kaggle website.\r\n",
                "\r\n",
                "3. **Data Understanding:**\r\n",
                "\r\n",
                " - Explored the dataset's structure, available columns, data types, and the data dictionary to understand its contents and objectives.\r\n",
                "\r\n",
                "3. **Data Assessment:** \r\n",
                "  - Thorough data quality assessment was conducted, addressing missing values, outliers, inconsistent formatting, and data entry errors.\r\n",
                "\r\n",
                "4. **Data Cleaning and Data Validation:**\r\n",
                "\r\n",
                " Several tasks were performed to ensure the data was in a usable and reliable format. Here are some key steps I took:\r\n",
                "   - Cleaned the data in Excel and adjusted the date format.\r\n",
                "   - Added constraints in Microsoft SQL Server, like a `Primary Key` for uniqueness and data integrity.\r\n",
                "   - Chose appropriate `data types` for accurate storage and manipulation of data.\r\n",
                "   - Enforced `NOT NULL` constraints on relevant columns to ensure data completeness and prevent the insertion of null values.\r\n",
                " \r\n",
                " 5. **Feature Engineering**\r\n",
                "   - A new column called `month` was created to extract the corresponding month of each transaction, aiding in identifying months with the highest sales and profitability.\r\n",
                "\r\n",
                "6. **SQL Query types used**\r\n",
                "- ALTET TABLE\r\n",
                "- ALTER COLUMN\r\n",
                "- ADD\r\n",
                "- UPDATE\r\n",
                "- DATENAME()\r\n",
                "- Aggregate Functions\r\n",
                "- MIN/MAX\r\n",
                "- SUM\r\n",
                "- COUNT(DISTINCT)\r\n",
                "- AVG\r\n",
                "- ROW_NUMBER()\r\n",
                "- ROUND\r\n",
                "- WHERE BETWEEN\r\n",
                "- Subqueries \r\n",
                "- STDEV\r\n",
                "- GROUP BY\r\n",
                "- ORDER BY "
            ],
            "metadata": {
                "azdata_cell_guid": "4203ccbe-d03c-4e26-968e-0f96decb6ce2"
            },
            "attachments": {}
        },
        {
            "cell_type": "markdown",
            "source": [
                "# **Exploratory Data Analysis (EDA)**\r\n",
                "\r\n",
                "**Throughout the analysis, I've answered various business questions based on the data, including:**\r\n",
                "\r\n",
                "1. How many sales transactions are there in our dataset?\r\n",
                "2. What is the date range covered by the dataset?\r\n",
                "3. Are there any outliers in car prices or gross profits? If so, how many are there and what are their values?\r\n",
                "4. How many unique car models are present in the data?\r\n",
                "5. What is the revenue comparison between the two car models (all-time)?\r\n",
                "6. Which car model has the highest total gross profit (all-time)?\r\n",
                "7. What is the annual total revenue generated by each car model in 2016 and 2017?\r\n",
                "8. Which car model is the best performer in terms of revenue (all-time)?\r\n",
                "9. How does the performance vary among different car versions within the best-performing model?\r\n",
                "10. How does the performance vary among different car versions within the worst-performing model?\r\n",
                "11. Which car version has the highest and lowest all-time sales?\r\n",
                "12. Which car version generates the highest total gross profit (all-time)?\r\n",
                "13. What is the most popular car version among buyers?\r\n",
                "14. How many countries are there in the dataset?\r\n",
                "15. What is the total gross profit and sales for each country?\r\n",
                "16. Which country had the highest demand for Tesla cars?\r\n",
                "17. How does the average gross profit vary across different car versions for each country?\r\n",
                "18. What is the most sold car model in each country?\r\n",
                "19. What is the most sold car version in each country?\r\n",
                "20. What is the most expensive car version in each country?\r\n",
                "21. What is the highest car version price in each country?\r\n",
                "22. How many car models were sold in the US in 2016 and 2017?\r\n",
                "23. Is there a difference in sales between the first and second quarter of 2016 and 2017?\r\n",
                "24. Is there a difference in sales between car models in the first and second quarter of 2016 and 2017?\r\n",
                "25. What is the total revenue for each month (all-time)?\r\n",
                "26. What is the monthly gross profit for each month (all-time)?\r\n",
                "27. What is the total revenue for each month in 2016 and 2017?\r\n",
                "28. How many unique car models were sold in Australia?\r\n",
                "29. What was the total gross profit generated from all sales in Germany?\r\n",
                "30. What is the average revenue of all cars sold in the US?\r\n",
                "31. What is the total gross profit generated from each car version in the US?\r\n",
                "32. Which car model had the highest price in the US?\r\n",
                "33. How many sales transactions were made for each car version in the US?\r\n",
                "34. Which car model had the highest revenue in Australia?\r\n",
                "35. What was the total sales generated from all sales in Australia?\r\n",
                "36. How many purchase types are there in the dataset?\r\n",
                "37. Which purchase type is most commonly used by people?\r\n",
                "38. What is the distribution of purchase types for each car model?\r\n",
                "39. What is the total sales for each purchase type?\r\n",
                "40. What is the average gross profit for each purchase type?\r\n",
                "41. Which country had the highest number of cash purchases?\r\n",
                "42. Which country had the highest number of deposit purchases?\r\n",
                "43. Which purchase type is most commonly used in each country?\r\n",
                "44. What was the most common purchase type for 'Model S' in Germany?\r\n",
                "45. How does the average price vary for different purchase types in the US?\r\n",
                "46. Calculate the average car price and gross profit.\r\n",
                "47. Calculate the standard deviation of price and gross profits.\r\n",
                "48. Is there a correlation between car price and gross profit? If so, what is the correlation coefficient?\r\n",
                "\r\n",
                ""
            ],
            "metadata": {
                "azdata_cell_guid": "11f0eee2-23ca-4956-822b-cde50b3f8a01"
            },
            "attachments": {}
        },
        {
            "cell_type": "markdown",
            "source": [
                "### **Let's do outliers detection and see if there's any outliers in the car prices or gross profits**"
            ],
            "metadata": {
                "language": "sql",
                "azdata_cell_guid": "f3c0b3b8-cf37-4fd9-b1b4-6e85de4852fd"
            },
            "attachments": {}
        },
        {
            "cell_type": "code",
            "source": [
                "USE TeslaSales\r\n",
                "\r\n",
                "\r\n",
                "SELECT \r\n",
                "  MAX(Revenue) AS max_price,\r\n",
                "  MIN(Revenue) AS min_price,\r\n",
                "  MAX(Gross_Profit) AS max_profit,\r\n",
                "  MIN(Gross_Profit) AS min_profit\r\n",
                "FROM CarSales;"
            ],
            "metadata": {
                "azdata_cell_guid": "d630010d-4ce6-45ad-bcbf-b29e887ccfb4",
                "language": "sql"
            },
            "outputs": [
                {
                    "output_type": "display_data",
                    "data": {
                        "text/html": "(1 row affected)"
                    },
                    "metadata": {}
                },
                {
                    "output_type": "display_data",
                    "data": {
                        "text/html": "Total execution time: 00:00:00.047"
                    },
                    "metadata": {}
                },
                {
                    "output_type": "execute_result",
                    "metadata": {},
                    "execution_count": 49,
                    "data": {
                        "application/vnd.dataresource+json": {
                            "schema": {
                                "fields": [
                                    {
                                        "name": "max_price"
                                    },
                                    {
                                        "name": "min_price"
                                    },
                                    {
                                        "name": "max_profit"
                                    },
                                    {
                                        "name": "min_profit"
                                    }
                                ]
                            },
                            "data": [
                                {
                                    "max_price": "88700.00",
                                    "min_price": "70700.00",
                                    "max_profit": "54371.511",
                                    "min_profit": "7178.568"
                                }
                            ]
                        },
                        "text/html": [
                            "<table>",
                            "<tr><th>max_price</th><th>min_price</th><th>max_profit</th><th>min_profit</th></tr>",
                            "<tr><td>88700.00</td><td>70700.00</td><td>54371.511</td><td>7178.568</td></tr>",
                            "</table>"
                        ]
                    }
                }
            ],
            "execution_count": 49
        },
        {
            "cell_type": "markdown",
            "source": [
                "There are no outliers since the numbers look normal."
            ],
            "metadata": {
                "language": "sql",
                "azdata_cell_guid": "fda4c326-e651-47b3-9469-7095d7c70043"
            },
            "attachments": {}
        },
        {
            "cell_type": "markdown",
            "source": [
                "### **determining the number of unique car models in the data.**"
            ],
            "metadata": {
                "language": "sql",
                "azdata_cell_guid": "74a7f0c4-0b4e-4515-89fc-f19f9df56981"
            },
            "attachments": {}
        },
        {
            "cell_type": "code",
            "source": [
                "SELECT \r\n",
                "\tCOUNT(DISTINCT Model) AS no_of_models\r\n",
                "FROM CarSales;"
            ],
            "metadata": {
                "language": "sql",
                "azdata_cell_guid": "28c27ee1-b755-4cd6-8795-87ab04f221e1"
            },
            "outputs": [
                {
                    "output_type": "display_data",
                    "data": {
                        "text/html": "(1 row affected)"
                    },
                    "metadata": {}
                },
                {
                    "output_type": "display_data",
                    "data": {
                        "text/html": "Total execution time: 00:00:00.112"
                    },
                    "metadata": {}
                },
                {
                    "output_type": "execute_result",
                    "metadata": {},
                    "execution_count": 50,
                    "data": {
                        "application/vnd.dataresource+json": {
                            "schema": {
                                "fields": [
                                    {
                                        "name": "no_of_models"
                                    }
                                ]
                            },
                            "data": [
                                {
                                    "no_of_models": "2"
                                }
                            ]
                        },
                        "text/html": [
                            "<table>",
                            "<tr><th>no_of_models</th></tr>",
                            "<tr><td>2</td></tr>",
                            "</table>"
                        ]
                    }
                }
            ],
            "execution_count": 50
        },
        {
            "cell_type": "markdown",
            "source": [
                "There are indeed only the 2 models"
            ],
            "metadata": {
                "language": "sql",
                "azdata_cell_guid": "28938929-a547-4410-823c-8c32af5cdf99"
            },
            "attachments": {}
        },
        {
            "cell_type": "markdown",
            "source": [
                "### **Let’s see if there is a difference in sales between these two car models (all time).**"
            ],
            "metadata": {
                "language": "sql",
                "azdata_cell_guid": "b38733d3-6903-41fa-8f3e-3b9fbef3bd54"
            },
            "attachments": {}
        },
        {
            "cell_type": "code",
            "source": [
                "SELECT \r\n",
                "\tModel, \r\n",
                "\tSUM(Revenue) AS Total_Sales\r\n",
                "FROM CarSales\r\n",
                "GROUP BY Model\r\n",
                "ORDER BY Total_Sales DESC;\t"
            ],
            "metadata": {
                "language": "sql",
                "azdata_cell_guid": "ded47c3f-fcac-40b9-8dd1-74de46514aa7"
            },
            "outputs": [
                {
                    "output_type": "display_data",
                    "data": {
                        "text/html": "(2 rows affected)"
                    },
                    "metadata": {}
                },
                {
                    "output_type": "display_data",
                    "data": {
                        "text/html": "Total execution time: 00:00:00.097"
                    },
                    "metadata": {}
                },
                {
                    "output_type": "execute_result",
                    "metadata": {},
                    "execution_count": 51,
                    "data": {
                        "application/vnd.dataresource+json": {
                            "schema": {
                                "fields": [
                                    {
                                        "name": "Model"
                                    },
                                    {
                                        "name": "Total_Sales"
                                    }
                                ]
                            },
                            "data": [
                                {
                                    "Model": "Model X",
                                    "Total_Sales": "3555430000.00"
                                },
                                {
                                    "Model": "Model S",
                                    "Total_Sales": "2885637500.00"
                                }
                            ]
                        },
                        "text/html": [
                            "<table>",
                            "<tr><th>Model</th><th>Total_Sales</th></tr>",
                            "<tr><td>Model X</td><td>3555430000.00</td></tr>",
                            "<tr><td>Model S</td><td>2885637500.00</td></tr>",
                            "</table>"
                        ]
                    }
                }
            ],
            "execution_count": 51
        },
        {
            "cell_type": "markdown",
            "source": [
                "'Model X' generated $669,792,500.00 more revenue than 'Model S'. \n",
                "\n",
                "This difference in revenue is indeed significant and indicates that 'Model X' outperformed 'Model S' in terms of revenue generation during that specific 2-year timeframe."
            ],
            "metadata": {
                "language": "sql",
                "azdata_cell_guid": "1cd41310-c39a-4aff-a953-16a04fdaa894"
            },
            "attachments": {}
        },
        {
            "cell_type": "markdown",
            "source": [
                "### **Which model has the highest total gross profit (all time)?**"
            ],
            "metadata": {
                "language": "sql",
                "azdata_cell_guid": "69f32f4b-6f69-4a9a-a960-a5d28a54c338"
            },
            "attachments": {}
        },
        {
            "cell_type": "code",
            "source": [
                "SELECT \r\n",
                "\tModel, \r\n",
                "\tSUM(Gross_Profit) AS Total_Profit\r\n",
                "FROM CarSales\r\n",
                "GROUP BY Model\r\n",
                "ORDER BY Total_Profit DESC;"
            ],
            "metadata": {
                "language": "sql",
                "azdata_cell_guid": "4a301a03-115e-43b8-acae-7111bd7bb1f7"
            },
            "outputs": [
                {
                    "output_type": "display_data",
                    "data": {
                        "text/html": "(2 rows affected)"
                    },
                    "metadata": {}
                },
                {
                    "output_type": "display_data",
                    "data": {
                        "text/html": "Total execution time: 00:00:00.104"
                    },
                    "metadata": {}
                },
                {
                    "output_type": "execute_result",
                    "metadata": {},
                    "execution_count": 52,
                    "data": {
                        "application/vnd.dataresource+json": {
                            "schema": {
                                "fields": [
                                    {
                                        "name": "Model"
                                    },
                                    {
                                        "name": "Total_Profit"
                                    }
                                ]
                            },
                            "data": [
                                {
                                    "Model": "Model X",
                                    "Total_Profit": "1039560332.872"
                                },
                                {
                                    "Model": "Model S",
                                    "Total_Profit": "838799261.395"
                                }
                            ]
                        },
                        "text/html": [
                            "<table>",
                            "<tr><th>Model</th><th>Total_Profit</th></tr>",
                            "<tr><td>Model X</td><td>1039560332.872</td></tr>",
                            "<tr><td>Model S</td><td>838799261.395</td></tr>",
                            "</table>"
                        ]
                    }
                }
            ],
            "execution_count": 52
        },
        {
            "cell_type": "markdown",
            "source": [
                "'Model X' has the highest total profit with $1,039,560,332.87."
            ],
            "metadata": {
                "language": "sql",
                "azdata_cell_guid": "f19a4b11-4c1b-440b-a1d8-2d01469bbda5"
            },
            "attachments": {}
        },
        {
            "cell_type": "markdown",
            "source": [
                "### **Let's analyze the annual total revenue generated by each of these car models in the year 2016**"
            ],
            "metadata": {
                "language": "sql",
                "azdata_cell_guid": "96fec641-03b5-489c-96e0-bed710004d64"
            },
            "attachments": {}
        },
        {
            "cell_type": "code",
            "source": [
                "SELECT \r\n",
                "\tModel, \r\n",
                "\tSUM(Revenue) AS Total_Sales\r\n",
                "FROM CarSales\r\n",
                "WHERE Period BETWEEN '2016-01-01' AND '2016-12-01'\r\n",
                "GROUP BY Model\r\n",
                "ORDER BY Total_Sales DESC;"
            ],
            "metadata": {
                "language": "sql",
                "azdata_cell_guid": "2df7a847-accb-4e6d-a929-50e90b5b95a8"
            },
            "outputs": [
                {
                    "output_type": "display_data",
                    "data": {
                        "text/html": "(2 rows affected)"
                    },
                    "metadata": {}
                },
                {
                    "output_type": "display_data",
                    "data": {
                        "text/html": "Total execution time: 00:00:00.130"
                    },
                    "metadata": {}
                },
                {
                    "output_type": "execute_result",
                    "metadata": {},
                    "execution_count": 53,
                    "data": {
                        "application/vnd.dataresource+json": {
                            "schema": {
                                "fields": [
                                    {
                                        "name": "Model"
                                    },
                                    {
                                        "name": "Total_Sales"
                                    }
                                ]
                            },
                            "data": [
                                {
                                    "Model": "Model X",
                                    "Total_Sales": "1809338000.00"
                                },
                                {
                                    "Model": "Model S",
                                    "Total_Sales": "1443879100.00"
                                }
                            ]
                        },
                        "text/html": [
                            "<table>",
                            "<tr><th>Model</th><th>Total_Sales</th></tr>",
                            "<tr><td>Model X</td><td>1809338000.00</td></tr>",
                            "<tr><td>Model S</td><td>1443879100.00</td></tr>",
                            "</table>"
                        ]
                    }
                }
            ],
            "execution_count": 53
        },
        {
            "cell_type": "markdown",
            "source": [
                "\"Model X\" generated $365,458,900.00 more revenue than \"Model S\" in 2016."
            ],
            "metadata": {
                "language": "sql",
                "azdata_cell_guid": "ac6bb452-0cf4-44b4-a4c8-9349b92acef2"
            },
            "attachments": {}
        },
        {
            "cell_type": "markdown",
            "source": [
                "### **Let's examine the total revenue generated by each of these car models in the year 2017.**"
            ],
            "metadata": {
                "language": "sql",
                "azdata_cell_guid": "b3721181-cb7d-4518-b436-a5ab8873d60b"
            },
            "attachments": {}
        },
        {
            "cell_type": "code",
            "source": [
                "SELECT \r\n",
                "\tModel, \r\n",
                "\tSUM(Revenue) AS Total_Sales\r\n",
                "FROM CarSales\r\n",
                "WHERE Period BETWEEN '2017-01-01' AND '2017-12-01'\r\n",
                "GROUP BY Model\r\n",
                "ORDER BY Total_Sales DESC;"
            ],
            "metadata": {
                "language": "sql",
                "azdata_cell_guid": "b6c86f10-9905-4a13-9099-9b16773625a3"
            },
            "outputs": [
                {
                    "output_type": "display_data",
                    "data": {
                        "text/html": "(2 rows affected)"
                    },
                    "metadata": {}
                },
                {
                    "output_type": "display_data",
                    "data": {
                        "text/html": "Total execution time: 00:00:00.069"
                    },
                    "metadata": {}
                },
                {
                    "output_type": "execute_result",
                    "metadata": {},
                    "execution_count": 54,
                    "data": {
                        "application/vnd.dataresource+json": {
                            "schema": {
                                "fields": [
                                    {
                                        "name": "Model"
                                    },
                                    {
                                        "name": "Total_Sales"
                                    }
                                ]
                            },
                            "data": [
                                {
                                    "Model": "Model X",
                                    "Total_Sales": "1746092000.00"
                                },
                                {
                                    "Model": "Model S",
                                    "Total_Sales": "1441758400.00"
                                }
                            ]
                        },
                        "text/html": [
                            "<table>",
                            "<tr><th>Model</th><th>Total_Sales</th></tr>",
                            "<tr><td>Model X</td><td>1746092000.00</td></tr>",
                            "<tr><td>Model S</td><td>1441758400.00</td></tr>",
                            "</table>"
                        ]
                    }
                }
            ],
            "execution_count": 54
        },
        {
            "cell_type": "markdown",
            "source": [
                "\"Model X\" generated $304,333,600.00 more revenue than \"Model S\" in 2017. <span style=\"color: var(--vscode-foreground);\">So now we know our top performers and worst performers in this date range.&nbsp;</span>"
            ],
            "metadata": {
                "language": "sql",
                "azdata_cell_guid": "251bbed2-ed08-42c2-b2ff-8a27c0acef84"
            },
            "attachments": {}
        },
        {
            "cell_type": "markdown",
            "source": [
                "### **What is our best performing model (all time)?**"
            ],
            "metadata": {
                "language": "sql",
                "azdata_cell_guid": "f44b9c71-f2d7-4acc-a514-bf7a23c08fb9"
            },
            "attachments": {}
        },
        {
            "cell_type": "code",
            "source": [
                "SELECT \r\n",
                "\tModel, \r\n",
                "\tSUM(Revenue) AS Total_Sales\r\n",
                "FROM CarSales\r\n",
                "GROUP BY Model\r\n",
                "ORDER BY Total_Sales DESC;"
            ],
            "metadata": {
                "language": "sql",
                "azdata_cell_guid": "178cc90c-d0aa-4c1b-8adc-bfa5e60341af"
            },
            "outputs": [
                {
                    "output_type": "display_data",
                    "data": {
                        "text/html": "(2 rows affected)"
                    },
                    "metadata": {}
                },
                {
                    "output_type": "display_data",
                    "data": {
                        "text/html": "Total execution time: 00:00:00.103"
                    },
                    "metadata": {}
                },
                {
                    "output_type": "execute_result",
                    "metadata": {},
                    "execution_count": 55,
                    "data": {
                        "application/vnd.dataresource+json": {
                            "schema": {
                                "fields": [
                                    {
                                        "name": "Model"
                                    },
                                    {
                                        "name": "Total_Sales"
                                    }
                                ]
                            },
                            "data": [
                                {
                                    "Model": "Model X",
                                    "Total_Sales": "3555430000.00"
                                },
                                {
                                    "Model": "Model S",
                                    "Total_Sales": "2885637500.00"
                                }
                            ]
                        },
                        "text/html": [
                            "<table>",
                            "<tr><th>Model</th><th>Total_Sales</th></tr>",
                            "<tr><td>Model X</td><td>3555430000.00</td></tr>",
                            "<tr><td>Model S</td><td>2885637500.00</td></tr>",
                            "</table>"
                        ]
                    }
                }
            ],
            "execution_count": 55
        },
        {
            "cell_type": "markdown",
            "source": [
                "Our best performing model is \"Model X\" with total\\_sales = $3,555,430,000.00"
            ],
            "metadata": {
                "language": "sql",
                "azdata_cell_guid": "16872f74-4411-4101-83e8-dda8f825d3ff"
            },
            "attachments": {}
        },
        {
            "cell_type": "markdown",
            "source": [
                "### **Let's analyze the performance of each car version within the best-performing model.**"
            ],
            "metadata": {
                "language": "sql",
                "azdata_cell_guid": "dd3cb195-4204-4857-bc3e-44163725d826"
            },
            "attachments": {}
        },
        {
            "cell_type": "code",
            "source": [
                "SELECT Model, Version, SUM(Revenue) AS total_sales\r\n",
                "FROM CarSales\r\n",
                "WHERE Model = 'Model X'\r\n",
                "GROUP BY Model, Version\r\n",
                "ORDER BY total_sales DESC;"
            ],
            "metadata": {
                "language": "sql",
                "azdata_cell_guid": "10e018a8-6496-4dde-ba86-1e405d51832c"
            },
            "outputs": [
                {
                    "output_type": "display_data",
                    "data": {
                        "text/html": "(2 rows affected)"
                    },
                    "metadata": {}
                },
                {
                    "output_type": "display_data",
                    "data": {
                        "text/html": "Total execution time: 00:00:00.238"
                    },
                    "metadata": {}
                },
                {
                    "output_type": "execute_result",
                    "metadata": {},
                    "execution_count": 56,
                    "data": {
                        "application/vnd.dataresource+json": {
                            "schema": {
                                "fields": [
                                    {
                                        "name": "Model"
                                    },
                                    {
                                        "name": "Version"
                                    },
                                    {
                                        "name": "total_sales"
                                    }
                                ]
                            },
                            "data": [
                                {
                                    "Model": "Model X",
                                    "Version": "P90D",
                                    "total_sales": "2490470000.00"
                                },
                                {
                                    "Model": "Model X",
                                    "Version": "90D",
                                    "total_sales": "1064960000.00"
                                }
                            ]
                        },
                        "text/html": [
                            "<table>",
                            "<tr><th>Model</th><th>Version</th><th>total_sales</th></tr>",
                            "<tr><td>Model X</td><td>P90D</td><td>2490470000.00</td></tr>",
                            "<tr><td>Model X</td><td>90D</td><td>1064960000.00</td></tr>",
                            "</table>"
                        ]
                    }
                }
            ],
            "execution_count": 56
        },
        {
            "cell_type": "markdown",
            "source": [
                "\"P90D\" car version generated $2,490,470,000.00 in revenue, while \"90D\" generated $1,064,960,000.00."
            ],
            "metadata": {
                "language": "sql",
                "azdata_cell_guid": "08e6cf03-ce6d-4044-bf5c-8ca11ad36f21"
            },
            "attachments": {}
        },
        {
            "cell_type": "markdown",
            "source": [
                "### **Let's see the performance of each car version within the worst-performing model.**"
            ],
            "metadata": {
                "language": "sql",
                "azdata_cell_guid": "94f9372c-5dc0-43ee-a1e8-b642d39c0753"
            },
            "attachments": {}
        },
        {
            "cell_type": "code",
            "source": [
                "SELECT Model, Version, SUM(Revenue) AS total_sales \r\n",
                "FROM CarSales\r\n",
                "WHERE Model = 'Model S'\r\n",
                "GROUP BY Model, Version\r\n",
                "ORDER BY total_sales DESC;"
            ],
            "metadata": {
                "language": "sql",
                "azdata_cell_guid": "e93243d8-b22b-4ee1-a8a6-69098a7ac567"
            },
            "outputs": [
                {
                    "output_type": "display_data",
                    "data": {
                        "text/html": "(4 rows affected)"
                    },
                    "metadata": {}
                },
                {
                    "output_type": "display_data",
                    "data": {
                        "text/html": "Total execution time: 00:00:00.101"
                    },
                    "metadata": {}
                },
                {
                    "output_type": "execute_result",
                    "metadata": {},
                    "execution_count": 57,
                    "data": {
                        "application/vnd.dataresource+json": {
                            "schema": {
                                "fields": [
                                    {
                                        "name": "Model"
                                    },
                                    {
                                        "name": "Version"
                                    },
                                    {
                                        "name": "total_sales"
                                    }
                                ]
                            },
                            "data": [
                                {
                                    "Model": "Model S",
                                    "Version": "75 RWD",
                                    "total_sales": "1165984400.00"
                                },
                                {
                                    "Model": "Model S",
                                    "Version": "60D AWD",
                                    "total_sales": "670174400.00"
                                },
                                {
                                    "Model": "Model S",
                                    "Version": "75D AWD",
                                    "total_sales": "655562000.00"
                                },
                                {
                                    "Model": "Model S",
                                    "Version": "90D AWD",
                                    "total_sales": "393916700.00"
                                }
                            ]
                        },
                        "text/html": [
                            "<table>",
                            "<tr><th>Model</th><th>Version</th><th>total_sales</th></tr>",
                            "<tr><td>Model S</td><td>75 RWD</td><td>1165984400.00</td></tr>",
                            "<tr><td>Model S</td><td>60D AWD</td><td>670174400.00</td></tr>",
                            "<tr><td>Model S</td><td>75D AWD</td><td>655562000.00</td></tr>",
                            "<tr><td>Model S</td><td>90D AWD</td><td>393916700.00</td></tr>",
                            "</table>"
                        ]
                    }
                }
            ],
            "execution_count": 57
        },
        {
            "cell_type": "markdown",
            "source": [
                "It appears that the \"75 RWD\" is the top-selling car version in \"Model S\", while \"90D AWD\" is the least popular."
            ],
            "metadata": {
                "language": "sql",
                "azdata_cell_guid": "c0846a2f-32e8-40a3-bd80-db790ac809ea"
            },
            "attachments": {}
        },
        {
            "cell_type": "markdown",
            "source": [
                "### **Which car version with the highest and lowest all-time sales.**"
            ],
            "metadata": {
                "language": "sql",
                "azdata_cell_guid": "3522e132-db3d-43b5-9938-e0afc52f8dab"
            },
            "attachments": {}
        },
        {
            "cell_type": "code",
            "source": [
                "SELECT Version, SUM(Revenue) AS total_sales\r\n",
                "FROM CarSales\r\n",
                "GROUP BY Version\r\n",
                "ORDER BY SUM(Revenue) DESC;"
            ],
            "metadata": {
                "language": "sql",
                "azdata_cell_guid": "35b64221-2cee-4937-bcbc-d09b83800c3c"
            },
            "outputs": [
                {
                    "output_type": "display_data",
                    "data": {
                        "text/html": "(6 rows affected)"
                    },
                    "metadata": {}
                },
                {
                    "output_type": "display_data",
                    "data": {
                        "text/html": "Total execution time: 00:00:00.099"
                    },
                    "metadata": {}
                },
                {
                    "output_type": "execute_result",
                    "metadata": {},
                    "execution_count": 58,
                    "data": {
                        "application/vnd.dataresource+json": {
                            "schema": {
                                "fields": [
                                    {
                                        "name": "Version"
                                    },
                                    {
                                        "name": "total_sales"
                                    }
                                ]
                            },
                            "data": [
                                {
                                    "Version": "P90D",
                                    "total_sales": "2490470000.00"
                                },
                                {
                                    "Version": "75 RWD",
                                    "total_sales": "1165984400.00"
                                },
                                {
                                    "Version": "90D",
                                    "total_sales": "1064960000.00"
                                },
                                {
                                    "Version": "60D AWD",
                                    "total_sales": "670174400.00"
                                },
                                {
                                    "Version": "75D AWD",
                                    "total_sales": "655562000.00"
                                },
                                {
                                    "Version": "90D AWD",
                                    "total_sales": "393916700.00"
                                }
                            ]
                        },
                        "text/html": [
                            "<table>",
                            "<tr><th>Version</th><th>total_sales</th></tr>",
                            "<tr><td>P90D</td><td>2490470000.00</td></tr>",
                            "<tr><td>75 RWD</td><td>1165984400.00</td></tr>",
                            "<tr><td>90D</td><td>1064960000.00</td></tr>",
                            "<tr><td>60D AWD</td><td>670174400.00</td></tr>",
                            "<tr><td>75D AWD</td><td>655562000.00</td></tr>",
                            "<tr><td>90D AWD</td><td>393916700.00</td></tr>",
                            "</table>"
                        ]
                    }
                }
            ],
            "execution_count": 58
        },
        {
            "cell_type": "markdown",
            "source": [
                "\"P90D\" has the highest sales with $2,490,470,000.00, while \"90D AWD\" has the lowest with $393,916,700.00."
            ],
            "metadata": {
                "language": "sql",
                "azdata_cell_guid": "85038173-de89-4e4c-be06-575d798ca247"
            },
            "attachments": {}
        },
        {
            "cell_type": "markdown",
            "source": [
                "### **Which car version is generating the highest total gross profit (all time)?**"
            ],
            "metadata": {
                "language": "sql",
                "azdata_cell_guid": "9b1a0a94-2951-4bcf-991a-0dcfd1bc01b8"
            },
            "attachments": {}
        },
        {
            "cell_type": "code",
            "source": [
                "SELECT \r\n",
                "\tTOP 1 Version, \r\n",
                "\t\tSUM(Gross_Profit) AS Total_Profit\r\n",
                "FROM CarSales\r\n",
                "GROUP BY Version\r\n",
                "ORDER BY Total_Profit DESC;"
            ],
            "metadata": {
                "language": "sql",
                "azdata_cell_guid": "a4574d25-60a6-46b8-8a05-6353ae852237"
            },
            "outputs": [
                {
                    "output_type": "display_data",
                    "data": {
                        "text/html": "(1 row affected)"
                    },
                    "metadata": {}
                },
                {
                    "output_type": "display_data",
                    "data": {
                        "text/html": "Total execution time: 00:00:00.098"
                    },
                    "metadata": {}
                },
                {
                    "output_type": "execute_result",
                    "metadata": {},
                    "execution_count": 59,
                    "data": {
                        "application/vnd.dataresource+json": {
                            "schema": {
                                "fields": [
                                    {
                                        "name": "Version"
                                    },
                                    {
                                        "name": "Total_Profit"
                                    }
                                ]
                            },
                            "data": [
                                {
                                    "Version": "P90D",
                                    "Total_Profit": "744668952.194"
                                }
                            ]
                        },
                        "text/html": [
                            "<table>",
                            "<tr><th>Version</th><th>Total_Profit</th></tr>",
                            "<tr><td>P90D</td><td>744668952.194</td></tr>",
                            "</table>"
                        ]
                    }
                }
            ],
            "execution_count": 59
        },
        {
            "cell_type": "markdown",
            "source": [
                "\"P90D\" generates the highest total gross profit among versions."
            ],
            "metadata": {
                "language": "sql",
                "azdata_cell_guid": "fd54d40d-7318-40d9-af3b-b4f9c667806c"
            },
            "attachments": {}
        },
        {
            "cell_type": "markdown",
            "source": [
                "### **Which car version is the most popular among buyers?**"
            ],
            "metadata": {
                "language": "sql",
                "azdata_cell_guid": "37bfec1f-1c0f-45c6-90e6-4c05f1045553"
            },
            "attachments": {}
        },
        {
            "cell_type": "code",
            "source": [
                "SELECT \r\n",
                "\tVersion, \r\n",
                "\tCOUNT(*) AS no_of_versions \r\n",
                "FROM CarSales\r\n",
                "GROUP BY Version \r\n",
                "ORDER BY no_of_versions DESC;"
            ],
            "metadata": {
                "language": "sql",
                "azdata_cell_guid": "65a1614d-5883-4565-8b6b-1f20b33bc805"
            },
            "outputs": [
                {
                    "output_type": "display_data",
                    "data": {
                        "text/html": "(6 rows affected)"
                    },
                    "metadata": {}
                },
                {
                    "output_type": "display_data",
                    "data": {
                        "text/html": "Total execution time: 00:00:00.098"
                    },
                    "metadata": {}
                },
                {
                    "output_type": "execute_result",
                    "metadata": {},
                    "execution_count": 60,
                    "data": {
                        "application/vnd.dataresource+json": {
                            "schema": {
                                "fields": [
                                    {
                                        "name": "Version"
                                    },
                                    {
                                        "name": "no_of_versions"
                                    }
                                ]
                            },
                            "data": [
                                {
                                    "Version": "P90D",
                                    "no_of_versions": "33655"
                                },
                                {
                                    "Version": "75 RWD",
                                    "no_of_versions": "16492"
                                },
                                {
                                    "Version": "90D",
                                    "no_of_versions": "13312"
                                },
                                {
                                    "Version": "60D AWD",
                                    "no_of_versions": "9032"
                                },
                                {
                                    "Version": "75D AWD",
                                    "no_of_versions": "8660"
                                },
                                {
                                    "Version": "90D AWD",
                                    "no_of_versions": "4441"
                                }
                            ]
                        },
                        "text/html": [
                            "<table>",
                            "<tr><th>Version</th><th>no_of_versions</th></tr>",
                            "<tr><td>P90D</td><td>33655</td></tr>",
                            "<tr><td>75 RWD</td><td>16492</td></tr>",
                            "<tr><td>90D</td><td>13312</td></tr>",
                            "<tr><td>60D AWD</td><td>9032</td></tr>",
                            "<tr><td>75D AWD</td><td>8660</td></tr>",
                            "<tr><td>90D AWD</td><td>4441</td></tr>",
                            "</table>"
                        ]
                    }
                }
            ],
            "execution_count": 60
        },
        {
            "cell_type": "markdown",
            "source": [
                "So we see that \"P90D\" is the most popular among buyers with 33,655 cars sold, while \"90D AWD\" is the least popular with 4,441 cars sold."
            ],
            "metadata": {
                "language": "sql",
                "azdata_cell_guid": "3bb15912-0a54-4e97-b9b3-64ea0b72800e"
            },
            "attachments": {}
        },
        {
            "cell_type": "markdown",
            "source": [
                "### **What is the total gross profit and sales for each country?**"
            ],
            "metadata": {
                "language": "sql",
                "azdata_cell_guid": "62173eca-fb8d-4fd2-b396-f9affb44f90d"
            },
            "attachments": {}
        },
        {
            "cell_type": "code",
            "source": [
                "SELECT \r\n",
                "\tCountry, \r\n",
                "\tSUM(Gross_Profit) AS Total_Gross_Profit, \r\n",
                "\tSUM(Revenue) AS Total_Sales\r\n",
                "FROM CarSales\r\n",
                "GROUP BY Country\r\n",
                "ORDER BY Total_Gross_Profit DESC;"
            ],
            "metadata": {
                "language": "sql",
                "azdata_cell_guid": "fede0a4c-3640-4c6e-9d89-9f9bd0b4e33e"
            },
            "outputs": [
                {
                    "output_type": "display_data",
                    "data": {
                        "text/html": "(3 rows affected)"
                    },
                    "metadata": {}
                },
                {
                    "output_type": "display_data",
                    "data": {
                        "text/html": "Total execution time: 00:00:00.102"
                    },
                    "metadata": {}
                },
                {
                    "output_type": "execute_result",
                    "metadata": {},
                    "execution_count": 61,
                    "data": {
                        "application/vnd.dataresource+json": {
                            "schema": {
                                "fields": [
                                    {
                                        "name": "Country"
                                    },
                                    {
                                        "name": "Total_Gross_Profit"
                                    },
                                    {
                                        "name": "Total_Sales"
                                    }
                                ]
                            },
                            "data": [
                                {
                                    "Country": "US",
                                    "Total_Gross_Profit": "1523726361.090",
                                    "Total_Sales": "4778070100.00"
                                },
                                {
                                    "Country": "Germany",
                                    "Total_Gross_Profit": "274277000.165",
                                    "Total_Sales": "1284433000.00"
                                },
                                {
                                    "Country": "Australia",
                                    "Total_Gross_Profit": "80356233.012",
                                    "Total_Sales": "378564400.00"
                                }
                            ]
                        },
                        "text/html": [
                            "<table>",
                            "<tr><th>Country</th><th>Total_Gross_Profit</th><th>Total_Sales</th></tr>",
                            "<tr><td>US</td><td>1523726361.090</td><td>4778070100.00</td></tr>",
                            "<tr><td>Germany</td><td>274277000.165</td><td>1284433000.00</td></tr>",
                            "<tr><td>Australia</td><td>80356233.012</td><td>378564400.00</td></tr>",
                            "</table>"
                        ]
                    }
                }
            ],
            "execution_count": 61
        },
        {
            "cell_type": "markdown",
            "source": [
                "### **Which country had the highest demand for Tesla cars?**"
            ],
            "metadata": {
                "language": "sql",
                "azdata_cell_guid": "e10358d9-3999-4801-bd5c-37af86705a06"
            },
            "attachments": {}
        },
        {
            "cell_type": "code",
            "source": [
                "SELECT \r\n",
                "\tCountry, \r\n",
                "\tCOUNT(*) AS no_demand_cars\r\n",
                "FROM CarSales\r\n",
                "GROUP BY Country\r\n",
                "ORDER BY no_demand_cars DESC;"
            ],
            "metadata": {
                "language": "sql",
                "azdata_cell_guid": "1269fdf3-419b-46a9-8c33-3713f0cd7799"
            },
            "outputs": [
                {
                    "output_type": "display_data",
                    "data": {
                        "text/html": "(3 rows affected)"
                    },
                    "metadata": {}
                },
                {
                    "output_type": "display_data",
                    "data": {
                        "text/html": "Total execution time: 00:00:00.070"
                    },
                    "metadata": {}
                },
                {
                    "output_type": "execute_result",
                    "metadata": {},
                    "execution_count": 62,
                    "data": {
                        "application/vnd.dataresource+json": {
                            "schema": {
                                "fields": [
                                    {
                                        "name": "Country"
                                    },
                                    {
                                        "name": "no_demand_cars"
                                    }
                                ]
                            },
                            "data": [
                                {
                                    "Country": "US",
                                    "no_demand_cars": "63469"
                                },
                                {
                                    "Country": "Germany",
                                    "no_demand_cars": "16956"
                                },
                                {
                                    "Country": "Australia",
                                    "no_demand_cars": "5167"
                                }
                            ]
                        },
                        "text/html": [
                            "<table>",
                            "<tr><th>Country</th><th>no_demand_cars</th></tr>",
                            "<tr><td>US</td><td>63469</td></tr>",
                            "<tr><td>Germany</td><td>16956</td></tr>",
                            "<tr><td>Australia</td><td>5167</td></tr>",
                            "</table>"
                        ]
                    }
                }
            ],
            "execution_count": 62
        },
        {
            "cell_type": "markdown",
            "source": [
                "\"US\" had the highest demand for Tesla cars with 63,469 cars, followed by \"Germany\" with 16,956 cars."
            ],
            "metadata": {
                "language": "sql",
                "azdata_cell_guid": "01319e07-4df3-4de0-8c2a-2cc0e4eaaa32"
            },
            "attachments": {}
        },
        {
            "cell_type": "markdown",
            "source": [
                "### **How does the average gross profit vary across different car versions for each country?**"
            ],
            "metadata": {
                "language": "sql",
                "azdata_cell_guid": "f8069cc9-f696-408a-a052-a422449b1429"
            },
            "attachments": {}
        },
        {
            "cell_type": "code",
            "source": [
                "SELECT \r\n",
                "\tCountry, \r\n",
                "\tVersion, \r\n",
                "\tAVG(Gross_Profit) AS Avg_Gross_Profit\r\n",
                "FROM CarSales\r\n",
                "GROUP BY Country, Version\r\n",
                "ORDER BY Country, Avg_Gross_Profit DESC;"
            ],
            "metadata": {
                "language": "sql",
                "azdata_cell_guid": "770df753-1081-431c-8918-e8d7631f419a"
            },
            "outputs": [
                {
                    "output_type": "display_data",
                    "data": {
                        "text/html": "(18 rows affected)"
                    },
                    "metadata": {}
                },
                {
                    "output_type": "display_data",
                    "data": {
                        "text/html": "Total execution time: 00:00:00.124"
                    },
                    "metadata": {}
                },
                {
                    "output_type": "execute_result",
                    "metadata": {},
                    "execution_count": 63,
                    "data": {
                        "application/vnd.dataresource+json": {
                            "schema": {
                                "fields": [
                                    {
                                        "name": "Country"
                                    },
                                    {
                                        "name": "Version"
                                    },
                                    {
                                        "name": "Avg_Gross_Profit"
                                    }
                                ]
                            },
                            "data": [
                                {
                                    "Country": "Australia",
                                    "Version": "90D AWD",
                                    "Avg_Gross_Profit": "43921.662117"
                                },
                                {
                                    "Country": "Australia",
                                    "Version": "75D AWD",
                                    "Avg_Gross_Profit": "38953.293857"
                                },
                                {
                                    "Country": "Australia",
                                    "Version": "60D AWD",
                                    "Avg_Gross_Profit": "20335.792915"
                                },
                                {
                                    "Country": "Australia",
                                    "Version": "90D",
                                    "Avg_Gross_Profit": "17356.315207"
                                },
                                {
                                    "Country": "Australia",
                                    "Version": "P90D",
                                    "Avg_Gross_Profit": "15540.389983"
                                },
                                {
                                    "Country": "Australia",
                                    "Version": "75 RWD",
                                    "Avg_Gross_Profit": "14121.527923"
                                },
                                {
                                    "Country": "Germany",
                                    "Version": "75D AWD",
                                    "Avg_Gross_Profit": "20586.564677"
                                },
                                {
                                    "Country": "Germany",
                                    "Version": "90D AWD",
                                    "Avg_Gross_Profit": "18414.889196"
                                },
                                {
                                    "Country": "Germany",
                                    "Version": "P90D",
                                    "Avg_Gross_Profit": "16185.988954"
                                },
                                {
                                    "Country": "Germany",
                                    "Version": "90D",
                                    "Avg_Gross_Profit": "15446.391892"
                                },
                                {
                                    "Country": "Germany",
                                    "Version": "60D AWD",
                                    "Avg_Gross_Profit": "14668.898754"
                                },
                                {
                                    "Country": "Germany",
                                    "Version": "75 RWD",
                                    "Avg_Gross_Profit": "12987.580455"
                                },
                                {
                                    "Country": "US",
                                    "Version": "90D AWD",
                                    "Avg_Gross_Profit": "32712.510861"
                                },
                                {
                                    "Country": "US",
                                    "Version": "75D AWD",
                                    "Avg_Gross_Profit": "28001.642209"
                                },
                                {
                                    "Country": "US",
                                    "Version": "P90D",
                                    "Avg_Gross_Profit": "24360.770655"
                                },
                                {
                                    "Country": "US",
                                    "Version": "90D",
                                    "Avg_Gross_Profit": "24141.851173"
                                },
                                {
                                    "Country": "US",
                                    "Version": "60D AWD",
                                    "Avg_Gross_Profit": "22968.265349"
                                },
                                {
                                    "Country": "US",
                                    "Version": "75 RWD",
                                    "Avg_Gross_Profit": "19237.203452"
                                }
                            ]
                        },
                        "text/html": [
                            "<table>",
                            "<tr><th>Country</th><th>Version</th><th>Avg_Gross_Profit</th></tr>",
                            "<tr><td>Australia</td><td>90D AWD</td><td>43921.662117</td></tr>",
                            "<tr><td>Australia</td><td>75D AWD</td><td>38953.293857</td></tr>",
                            "<tr><td>Australia</td><td>60D AWD</td><td>20335.792915</td></tr>",
                            "<tr><td>Australia</td><td>90D</td><td>17356.315207</td></tr>",
                            "<tr><td>Australia</td><td>P90D</td><td>15540.389983</td></tr>",
                            "<tr><td>Australia</td><td>75 RWD</td><td>14121.527923</td></tr>",
                            "<tr><td>Germany</td><td>75D AWD</td><td>20586.564677</td></tr>",
                            "<tr><td>Germany</td><td>90D AWD</td><td>18414.889196</td></tr>",
                            "<tr><td>Germany</td><td>P90D</td><td>16185.988954</td></tr>",
                            "<tr><td>Germany</td><td>90D</td><td>15446.391892</td></tr>",
                            "<tr><td>Germany</td><td>60D AWD</td><td>14668.898754</td></tr>",
                            "<tr><td>Germany</td><td>75 RWD</td><td>12987.580455</td></tr>",
                            "<tr><td>US</td><td>90D AWD</td><td>32712.510861</td></tr>",
                            "<tr><td>US</td><td>75D AWD</td><td>28001.642209</td></tr>",
                            "<tr><td>US</td><td>P90D</td><td>24360.770655</td></tr>",
                            "<tr><td>US</td><td>90D</td><td>24141.851173</td></tr>",
                            "<tr><td>US</td><td>60D AWD</td><td>22968.265349</td></tr>",
                            "<tr><td>US</td><td>75 RWD</td><td>19237.203452</td></tr>",
                            "</table>"
                        ]
                    }
                }
            ],
            "execution_count": 63
        },
        {
            "cell_type": "markdown",
            "source": [
                "### **What is The most sold car model in each country?**"
            ],
            "metadata": {
                "language": "sql",
                "azdata_cell_guid": "1c904196-e79d-44e0-8224-ffe2fa0457bf"
            },
            "attachments": {}
        },
        {
            "cell_type": "code",
            "source": [
                "SELECT Country, Model\r\n",
                "FROM (SELECT Country, Revenue, Model, ROW_NUMBER() OVER(PARTITION BY Country ORDER BY SUM(Revenue) DESC) AS RN\r\n",
                "\t\tFROM CarSales\r\n",
                "\t\tGROUP BY Country, Revenue, Model) as NewTable\r\n",
                "WHERE RN = 1; "
            ],
            "metadata": {
                "language": "sql",
                "azdata_cell_guid": "fbc2fe99-e020-4477-b443-591a4655fda1"
            },
            "outputs": [
                {
                    "output_type": "display_data",
                    "data": {
                        "text/html": "(3 rows affected)"
                    },
                    "metadata": {}
                },
                {
                    "output_type": "display_data",
                    "data": {
                        "text/html": "Total execution time: 00:00:00.162"
                    },
                    "metadata": {}
                },
                {
                    "output_type": "execute_result",
                    "metadata": {},
                    "execution_count": 64,
                    "data": {
                        "application/vnd.dataresource+json": {
                            "schema": {
                                "fields": [
                                    {
                                        "name": "Country"
                                    },
                                    {
                                        "name": "Model"
                                    }
                                ]
                            },
                            "data": [
                                {
                                    "Country": "Australia",
                                    "Model": "Model X"
                                },
                                {
                                    "Country": "Germany",
                                    "Model": "Model X"
                                },
                                {
                                    "Country": "US",
                                    "Model": "Model X"
                                }
                            ]
                        },
                        "text/html": [
                            "<table>",
                            "<tr><th>Country</th><th>Model</th></tr>",
                            "<tr><td>Australia</td><td>Model X</td></tr>",
                            "<tr><td>Germany</td><td>Model X</td></tr>",
                            "<tr><td>US</td><td>Model X</td></tr>",
                            "</table>"
                        ]
                    }
                }
            ],
            "execution_count": 64
        },
        {
            "cell_type": "markdown",
            "source": [
                "\"Model X\" is the most popular among countries"
            ],
            "metadata": {
                "language": "sql",
                "azdata_cell_guid": "43e42b3c-b297-4168-999e-d71d28d98c85"
            },
            "attachments": {}
        },
        {
            "cell_type": "markdown",
            "source": [
                "### **what is the most sold car version in each country?**"
            ],
            "metadata": {
                "language": "sql",
                "azdata_cell_guid": "313831c9-d33d-45ed-af0e-f1f1b397755a"
            },
            "attachments": {}
        },
        {
            "cell_type": "code",
            "source": [
                "SELECT Country, Version\r\n",
                "FROM (\r\n",
                "  SELECT Country, Version, \r\n",
                "         ROW_NUMBER() OVER (PARTITION BY Country ORDER BY COUNT(*) DESC) AS RN\r\n",
                "  FROM CarSales\r\n",
                "  GROUP BY Country, Version\r\n",
                ") AS sales_version\r\n",
                "WHERE RN = 1;"
            ],
            "metadata": {
                "language": "sql",
                "azdata_cell_guid": "b5c41695-d8e9-4f4b-b702-6d439753d015"
            },
            "outputs": [
                {
                    "output_type": "display_data",
                    "data": {
                        "text/html": "(3 rows affected)"
                    },
                    "metadata": {}
                },
                {
                    "output_type": "display_data",
                    "data": {
                        "text/html": "Total execution time: 00:00:00.104"
                    },
                    "metadata": {}
                },
                {
                    "output_type": "execute_result",
                    "metadata": {},
                    "execution_count": 65,
                    "data": {
                        "application/vnd.dataresource+json": {
                            "schema": {
                                "fields": [
                                    {
                                        "name": "Country"
                                    },
                                    {
                                        "name": "Version"
                                    }
                                ]
                            },
                            "data": [
                                {
                                    "Country": "Australia",
                                    "Version": "P90D"
                                },
                                {
                                    "Country": "Germany",
                                    "Version": "P90D"
                                },
                                {
                                    "Country": "US",
                                    "Version": "P90D"
                                }
                            ]
                        },
                        "text/html": [
                            "<table>",
                            "<tr><th>Country</th><th>Version</th></tr>",
                            "<tr><td>Australia</td><td>P90D</td></tr>",
                            "<tr><td>Germany</td><td>P90D</td></tr>",
                            "<tr><td>US</td><td>P90D</td></tr>",
                            "</table>"
                        ]
                    }
                }
            ],
            "execution_count": 65
        },
        {
            "cell_type": "markdown",
            "source": [
                "\"P90D\" is the most sold car version in each country"
            ],
            "metadata": {
                "language": "sql",
                "azdata_cell_guid": "fccfa06e-023d-402b-90d8-da8315151be2"
            },
            "attachments": {}
        },
        {
            "cell_type": "markdown",
            "source": [
                "### **what is the most expensive car version in each country?**"
            ],
            "metadata": {
                "language": "sql",
                "azdata_cell_guid": "cb2fb288-868b-4c38-bc21-44e955ea9a01"
            },
            "attachments": {}
        },
        {
            "cell_type": "code",
            "source": [
                "SELECT Country, Version\r\n",
                "FROM (\r\n",
                "  SELECT Country, Version, \r\n",
                "         ROW_NUMBER() OVER (PARTITION BY Country ORDER BY Revenue DESC) AS RN\r\n",
                "  FROM CarSales\r\n",
                "  GROUP BY Country, Version, Revenue\r\n",
                ") AS sales_version\r\n",
                "WHERE RN = 1;"
            ],
            "metadata": {
                "language": "sql",
                "azdata_cell_guid": "0ab530f5-2600-449c-b67b-f3feb684fec3"
            },
            "outputs": [
                {
                    "output_type": "display_data",
                    "data": {
                        "text/html": "(3 rows affected)"
                    },
                    "metadata": {}
                },
                {
                    "output_type": "display_data",
                    "data": {
                        "text/html": "Total execution time: 00:00:00.146"
                    },
                    "metadata": {}
                },
                {
                    "output_type": "execute_result",
                    "metadata": {},
                    "execution_count": 66,
                    "data": {
                        "application/vnd.dataresource+json": {
                            "schema": {
                                "fields": [
                                    {
                                        "name": "Country"
                                    },
                                    {
                                        "name": "Version"
                                    }
                                ]
                            },
                            "data": [
                                {
                                    "Country": "Australia",
                                    "Version": "90D AWD"
                                },
                                {
                                    "Country": "Germany",
                                    "Version": "90D AWD"
                                },
                                {
                                    "Country": "US",
                                    "Version": "90D AWD"
                                }
                            ]
                        },
                        "text/html": [
                            "<table>",
                            "<tr><th>Country</th><th>Version</th></tr>",
                            "<tr><td>Australia</td><td>90D AWD</td></tr>",
                            "<tr><td>Germany</td><td>90D AWD</td></tr>",
                            "<tr><td>US</td><td>90D AWD</td></tr>",
                            "</table>"
                        ]
                    }
                }
            ],
            "execution_count": 66
        },
        {
            "cell_type": "markdown",
            "source": [
                "\"90D AWD\" is the most expensive car version in each country"
            ],
            "metadata": {
                "language": "sql",
                "azdata_cell_guid": "72e0213b-a6ca-4f5a-aa00-a01a43fc22db"
            },
            "attachments": {}
        },
        {
            "cell_type": "markdown",
            "source": [
                "### **what is the highest car version price in each country?**"
            ],
            "metadata": {
                "language": "sql",
                "azdata_cell_guid": "b13d653d-298c-4019-a212-af5009454ff7"
            },
            "attachments": {}
        },
        {
            "cell_type": "code",
            "source": [
                "SELECT Country, Revenue\r\n",
                "FROM (\r\n",
                "  SELECT Country, Revenue, \r\n",
                "         ROW_NUMBER() OVER (PARTITION BY Country ORDER BY Revenue DESC) AS RN\r\n",
                "  FROM CarSales\r\n",
                "  GROUP BY Country, Revenue\r\n",
                ") AS sales_version\r\n",
                "WHERE RN = 1; "
            ],
            "metadata": {
                "language": "sql",
                "azdata_cell_guid": "a2a82c35-1db9-4bf2-b956-e12919daa2c9"
            },
            "outputs": [
                {
                    "output_type": "display_data",
                    "data": {
                        "text/html": "(3 rows affected)"
                    },
                    "metadata": {}
                },
                {
                    "output_type": "display_data",
                    "data": {
                        "text/html": "Total execution time: 00:00:00.093"
                    },
                    "metadata": {}
                },
                {
                    "output_type": "execute_result",
                    "metadata": {},
                    "execution_count": 67,
                    "data": {
                        "application/vnd.dataresource+json": {
                            "schema": {
                                "fields": [
                                    {
                                        "name": "Country"
                                    },
                                    {
                                        "name": "Revenue"
                                    }
                                ]
                            },
                            "data": [
                                {
                                    "Country": "Australia",
                                    "Revenue": "88700.00"
                                },
                                {
                                    "Country": "Germany",
                                    "Revenue": "88700.00"
                                },
                                {
                                    "Country": "US",
                                    "Revenue": "88700.00"
                                }
                            ]
                        },
                        "text/html": [
                            "<table>",
                            "<tr><th>Country</th><th>Revenue</th></tr>",
                            "<tr><td>Australia</td><td>88700.00</td></tr>",
                            "<tr><td>Germany</td><td>88700.00</td></tr>",
                            "<tr><td>US</td><td>88700.00</td></tr>",
                            "</table>"
                        ]
                    }
                }
            ],
            "execution_count": 67
        },
        {
            "cell_type": "markdown",
            "source": [
                "The '90D AWD' car version reached the highest price of $88,700.00 individually in all three countries"
            ],
            "metadata": {
                "language": "sql",
                "azdata_cell_guid": "d219ccfe-7d70-4bba-be64-3586728f5494"
            },
            "attachments": {}
        },
        {
            "cell_type": "markdown",
            "source": [
                "### **How many car models were sold in the US in 2016?**"
            ],
            "metadata": {
                "language": "sql",
                "azdata_cell_guid": "1d9be13e-059e-48ad-ae4d-3efc757d5d4d"
            },
            "attachments": {}
        },
        {
            "cell_type": "code",
            "source": [
                "SELECT \r\n",
                "\tModel, \r\n",
                "\tCOUNT(Model) AS us_no_models\r\n",
                "FROM CarSales\r\n",
                "WHERE (Country = 'US') AND (Period between '2016-01-01' AND '2016-12-01')              \r\n",
                "GROUP BY Model;\t"
            ],
            "metadata": {
                "language": "sql",
                "azdata_cell_guid": "807e419f-2862-48e1-86a3-359c63bd2e22"
            },
            "outputs": [
                {
                    "output_type": "display_data",
                    "data": {
                        "text/html": "(2 rows affected)"
                    },
                    "metadata": {}
                },
                {
                    "output_type": "display_data",
                    "data": {
                        "text/html": "Total execution time: 00:00:00.063"
                    },
                    "metadata": {}
                },
                {
                    "output_type": "execute_result",
                    "metadata": {},
                    "execution_count": 68,
                    "data": {
                        "application/vnd.dataresource+json": {
                            "schema": {
                                "fields": [
                                    {
                                        "name": "Model"
                                    },
                                    {
                                        "name": "us_no_models"
                                    }
                                ]
                            },
                            "data": [
                                {
                                    "Model": "Model X",
                                    "us_no_models": "17553"
                                },
                                {
                                    "Model": "Model S",
                                    "us_no_models": "14592"
                                }
                            ]
                        },
                        "text/html": [
                            "<table>",
                            "<tr><th>Model</th><th>us_no_models</th></tr>",
                            "<tr><td>Model X</td><td>17553</td></tr>",
                            "<tr><td>Model S</td><td>14592</td></tr>",
                            "</table>"
                        ]
                    }
                }
            ],
            "execution_count": 68
        },
        {
            "cell_type": "markdown",
            "source": [
                "\\-- USA car sales in 2016:\n",
                "\n",
                "\\-- \"Model X\" was sold 17,553 times.\n",
                "\n",
                "\\-- \"Model S\" was sold 14,592 times."
            ],
            "metadata": {
                "language": "sql",
                "azdata_cell_guid": "fc52ccee-4da1-4b9b-bedd-09b143b63deb"
            },
            "attachments": {}
        },
        {
            "cell_type": "markdown",
            "source": [
                "### **How many car models were sold in the US in 2017?**"
            ],
            "metadata": {
                "language": "sql",
                "azdata_cell_guid": "ebd8da18-773b-45db-b714-2d0a034fbbea"
            },
            "attachments": {}
        },
        {
            "cell_type": "code",
            "source": [
                "SELECT \r\n",
                "\tModel, \r\n",
                "\tCOUNT(Model) AS us_no_models\r\n",
                "FROM CarSales\r\n",
                "WHERE (Country = 'US') AND (Period BETWEEN '2017-01-01' AND '2017-12-01')              \r\n",
                "GROUP BY Model;\t"
            ],
            "metadata": {
                "language": "sql",
                "azdata_cell_guid": "c1179baf-7885-44b6-b7fc-c863d436b3aa"
            },
            "outputs": [
                {
                    "output_type": "display_data",
                    "data": {
                        "text/html": "(2 rows affected)"
                    },
                    "metadata": {}
                },
                {
                    "output_type": "display_data",
                    "data": {
                        "text/html": "Total execution time: 00:00:00.151"
                    },
                    "metadata": {}
                },
                {
                    "output_type": "execute_result",
                    "metadata": {},
                    "execution_count": 69,
                    "data": {
                        "application/vnd.dataresource+json": {
                            "schema": {
                                "fields": [
                                    {
                                        "name": "Model"
                                    },
                                    {
                                        "name": "us_no_models"
                                    }
                                ]
                            },
                            "data": [
                                {
                                    "Model": "Model X",
                                    "us_no_models": "17238"
                                },
                                {
                                    "Model": "Model S",
                                    "us_no_models": "14086"
                                }
                            ]
                        },
                        "text/html": [
                            "<table>",
                            "<tr><th>Model</th><th>us_no_models</th></tr>",
                            "<tr><td>Model X</td><td>17238</td></tr>",
                            "<tr><td>Model S</td><td>14086</td></tr>",
                            "</table>"
                        ]
                    }
                }
            ],
            "execution_count": 69
        },
        {
            "cell_type": "markdown",
            "source": [
                "\\-- USA car sales in 2017:\n",
                "\n",
                "\\-- \"Model X\" was sold 17,238 times.\n",
                "\n",
                "\\-- \"Model S\" was sold 14,086 times."
            ],
            "metadata": {
                "language": "sql",
                "azdata_cell_guid": "eeb5139b-c6be-494c-898d-4fa302da2073"
            },
            "attachments": {}
        },
        {
            "cell_type": "markdown",
            "source": [
                "### **IS there a difference in sales between the first and second quarter of the year 2016 and 2017.?**"
            ],
            "metadata": {
                "language": "sql",
                "azdata_cell_guid": "e43b2d60-c341-467b-b1d9-cfc481087de5"
            },
            "attachments": {}
        },
        {
            "cell_type": "code",
            "source": [
                "SELECT \r\n",
                "\tSUM(Revenue) AS quarter_Revenue\r\n",
                "FROM CarSales\r\n",
                "WHERE Period between '2016-01-01' AND '2016-06-01';"
            ],
            "metadata": {
                "language": "sql",
                "azdata_cell_guid": "61a185a6-ac7d-4e4c-8663-fddb336df0ce"
            },
            "outputs": [
                {
                    "output_type": "display_data",
                    "data": {
                        "text/html": "(1 row affected)"
                    },
                    "metadata": {}
                },
                {
                    "output_type": "display_data",
                    "data": {
                        "text/html": "Total execution time: 00:00:00.023"
                    },
                    "metadata": {}
                },
                {
                    "output_type": "execute_result",
                    "metadata": {},
                    "execution_count": 70,
                    "data": {
                        "application/vnd.dataresource+json": {
                            "schema": {
                                "fields": [
                                    {
                                        "name": "quarter_Revenue"
                                    }
                                ]
                            },
                            "data": [
                                {
                                    "quarter_Revenue": "1620321400.00"
                                }
                            ]
                        },
                        "text/html": [
                            "<table>",
                            "<tr><th>quarter_Revenue</th></tr>",
                            "<tr><td>1620321400.00</td></tr>",
                            "</table>"
                        ]
                    }
                }
            ],
            "execution_count": 70
        },
        {
            "cell_type": "markdown",
            "source": [
                "### **What is the total revenue for each month in 2016?**"
            ],
            "metadata": {
                "language": "sql",
                "azdata_cell_guid": "571a8649-f170-4d5f-82bb-180a50c3265c"
            },
            "attachments": {}
        },
        {
            "cell_type": "code",
            "source": [
                "SELECT month_name, sum(Revenue) as month_revenue\r\n",
                "FROM CarSales\r\n",
                "WHERE Period between '2017-01-01' AND '2017-12-01'\r\n",
                "GROUP BY month_name \r\n",
                "ORDER BY month_revenue DESC;"
            ],
            "metadata": {
                "language": "sql",
                "azdata_cell_guid": "3cadd0b2-2ce9-47a4-a706-505982cc5217"
            },
            "outputs": [
                {
                    "output_type": "display_data",
                    "data": {
                        "text/html": "(12 rows affected)"
                    },
                    "metadata": {}
                },
                {
                    "output_type": "display_data",
                    "data": {
                        "text/html": "Total execution time: 00:00:00.074"
                    },
                    "metadata": {}
                },
                {
                    "output_type": "execute_result",
                    "metadata": {},
                    "execution_count": 71,
                    "data": {
                        "application/vnd.dataresource+json": {
                            "schema": {
                                "fields": [
                                    {
                                        "name": "month_name"
                                    },
                                    {
                                        "name": "month_revenue"
                                    }
                                ]
                            },
                            "data": [
                                {
                                    "month_name": "July",
                                    "month_revenue": "282845500.00"
                                },
                                {
                                    "month_name": "June",
                                    "month_revenue": "281608700.00"
                                },
                                {
                                    "month_name": "April",
                                    "month_revenue": "277038700.00"
                                },
                                {
                                    "month_name": "August",
                                    "month_revenue": "274928300.00"
                                },
                                {
                                    "month_name": "March",
                                    "month_revenue": "272774400.00"
                                },
                                {
                                    "month_name": "May",
                                    "month_revenue": "268954300.00"
                                },
                                {
                                    "month_name": "February",
                                    "month_revenue": "267379500.00"
                                },
                                {
                                    "month_name": "September",
                                    "month_revenue": "262681600.00"
                                },
                                {
                                    "month_name": "December",
                                    "month_revenue": "257355700.00"
                                },
                                {
                                    "month_name": "January",
                                    "month_revenue": "249610800.00"
                                },
                                {
                                    "month_name": "November",
                                    "month_revenue": "248669000.00"
                                },
                                {
                                    "month_name": "October",
                                    "month_revenue": "244003900.00"
                                }
                            ]
                        },
                        "text/html": [
                            "<table>",
                            "<tr><th>month_name</th><th>month_revenue</th></tr>",
                            "<tr><td>July</td><td>282845500.00</td></tr>",
                            "<tr><td>June</td><td>281608700.00</td></tr>",
                            "<tr><td>April</td><td>277038700.00</td></tr>",
                            "<tr><td>August</td><td>274928300.00</td></tr>",
                            "<tr><td>March</td><td>272774400.00</td></tr>",
                            "<tr><td>May</td><td>268954300.00</td></tr>",
                            "<tr><td>February</td><td>267379500.00</td></tr>",
                            "<tr><td>September</td><td>262681600.00</td></tr>",
                            "<tr><td>December</td><td>257355700.00</td></tr>",
                            "<tr><td>January</td><td>249610800.00</td></tr>",
                            "<tr><td>November</td><td>248669000.00</td></tr>",
                            "<tr><td>October</td><td>244003900.00</td></tr>",
                            "</table>"
                        ]
                    }
                }
            ],
            "execution_count": 71
        },
        {
            "cell_type": "markdown",
            "source": [
                "\"July\" has the highest revenue with $282,845,500.00 and \"October\" is the lowest revenue with $244,003,900.00"
            ],
            "metadata": {
                "language": "sql",
                "azdata_cell_guid": "a465bd7e-49f8-4c20-9b7d-09225b167c3c"
            },
            "attachments": {}
        },
        {
            "cell_type": "markdown",
            "source": [
                "### **What is the average Revenue of all cars sold in the US?**"
            ],
            "metadata": {
                "language": "sql",
                "azdata_cell_guid": "5205deff-1273-4cdc-96dd-b8d53f9a708e"
            },
            "attachments": {}
        },
        {
            "cell_type": "code",
            "source": [
                "SELECT \r\n",
                "\tCountry, \r\n",
                "\tROUND(AVG(Revenue),3) AS US_avg_Price\r\n",
                "FROM CarSales \r\n",
                "WHERE Country = 'US'\r\n",
                "Group BY Country;"
            ],
            "metadata": {
                "language": "sql",
                "azdata_cell_guid": "2a5fd530-330b-4e5a-a949-0a33d3324241"
            },
            "outputs": [
                {
                    "output_type": "display_data",
                    "data": {
                        "text/html": "(1 row affected)"
                    },
                    "metadata": {}
                },
                {
                    "output_type": "display_data",
                    "data": {
                        "text/html": "Total execution time: 00:00:00.068"
                    },
                    "metadata": {}
                },
                {
                    "output_type": "execute_result",
                    "metadata": {},
                    "execution_count": 72,
                    "data": {
                        "application/vnd.dataresource+json": {
                            "schema": {
                                "fields": [
                                    {
                                        "name": "Country"
                                    },
                                    {
                                        "name": "US_avg_Price"
                                    }
                                ]
                            },
                            "data": [
                                {
                                    "Country": "US",
                                    "US_avg_Price": "75281.950000"
                                }
                            ]
                        },
                        "text/html": [
                            "<table>",
                            "<tr><th>Country</th><th>US_avg_Price</th></tr>",
                            "<tr><td>US</td><td>75281.950000</td></tr>",
                            "</table>"
                        ]
                    }
                }
            ],
            "execution_count": 72
        },
        {
            "cell_type": "markdown",
            "source": [
                "The \"US\" has an average Revenue of all cars sold with $75281.950"
            ],
            "metadata": {
                "language": "sql",
                "azdata_cell_guid": "afdf3931-2191-4ba8-b0ca-5dece0d7d17c"
            },
            "attachments": {}
        },
        {
            "cell_type": "markdown",
            "source": [
                "### **What is the total gross profit generated from each car version in the US?**"
            ],
            "metadata": {
                "language": "sql",
                "azdata_cell_guid": "d2524141-cf29-40f5-b4f4-b6cbc30bf88e"
            },
            "attachments": {}
        },
        {
            "cell_type": "code",
            "source": [
                "SELECT \r\n",
                "\tVersion, \r\n",
                "\tSUM(Gross_Profit) AS US_totalprofit\r\n",
                "FROM CarSales\r\n",
                "WHERE Country = 'US'\r\n",
                "GROUP BY Version;"
            ],
            "metadata": {
                "language": "sql",
                "azdata_cell_guid": "51416932-eb0c-4396-81fa-62f7a5a865ae"
            },
            "outputs": [
                {
                    "output_type": "display_data",
                    "data": {
                        "text/html": "(6 rows affected)"
                    },
                    "metadata": {}
                },
                {
                    "output_type": "display_data",
                    "data": {
                        "text/html": "Total execution time: 00:00:00.083"
                    },
                    "metadata": {}
                },
                {
                    "output_type": "execute_result",
                    "metadata": {},
                    "execution_count": 73,
                    "data": {
                        "application/vnd.dataresource+json": {
                            "schema": {
                                "fields": [
                                    {
                                        "name": "Version"
                                    },
                                    {
                                        "name": "US_totalprofit"
                                    }
                                ]
                            },
                            "data": [
                                {
                                    "Version": "P90D",
                                    "US_totalprofit": "600103224.326"
                                },
                                {
                                    "Version": "75D AWD",
                                    "US_totalprofit": "180274572.544"
                                },
                                {
                                    "Version": "60D AWD",
                                    "US_totalprofit": "170906862.469"
                                },
                                {
                                    "Version": "90D AWD",
                                    "US_totalprofit": "103273396.790"
                                },
                                {
                                    "Version": "75 RWD",
                                    "US_totalprofit": "223959522.592"
                                },
                                {
                                    "Version": "90D",
                                    "US_totalprofit": "245208782.369"
                                }
                            ]
                        },
                        "text/html": [
                            "<table>",
                            "<tr><th>Version</th><th>US_totalprofit</th></tr>",
                            "<tr><td>P90D</td><td>600103224.326</td></tr>",
                            "<tr><td>75D AWD</td><td>180274572.544</td></tr>",
                            "<tr><td>60D AWD</td><td>170906862.469</td></tr>",
                            "<tr><td>90D AWD</td><td>103273396.790</td></tr>",
                            "<tr><td>75 RWD</td><td>223959522.592</td></tr>",
                            "<tr><td>90D</td><td>245208782.369</td></tr>",
                            "</table>"
                        ]
                    }
                }
            ],
            "execution_count": 73
        },
        {
            "cell_type": "markdown",
            "source": [
                "### **Which car model had the highest price in the US?**"
            ],
            "metadata": {
                "language": "sql",
                "azdata_cell_guid": "96a2378d-d0aa-4a37-93f9-73b43d63f344"
            },
            "attachments": {}
        },
        {
            "cell_type": "code",
            "source": [
                "SELECT \r\n",
                "\tModel, \r\n",
                "\tROUND(SUM(Revenue), 2) AS US_total_price\r\n",
                "FROM CarSales\r\n",
                "WHERE Country = 'US'\r\n",
                "GROUP BY Model\r\n",
                "ORDER BY US_total_price DESC;"
            ],
            "metadata": {
                "language": "sql",
                "azdata_cell_guid": "d7224a32-4abb-4cdd-81e2-cb10af139172"
            },
            "outputs": [
                {
                    "output_type": "display_data",
                    "data": {
                        "text/html": "(2 rows affected)"
                    },
                    "metadata": {}
                },
                {
                    "output_type": "display_data",
                    "data": {
                        "text/html": "Total execution time: 00:00:00.097"
                    },
                    "metadata": {}
                },
                {
                    "output_type": "execute_result",
                    "metadata": {},
                    "execution_count": 74,
                    "data": {
                        "application/vnd.dataresource+json": {
                            "schema": {
                                "fields": [
                                    {
                                        "name": "Model"
                                    },
                                    {
                                        "name": "US_total_price"
                                    }
                                ]
                            },
                            "data": [
                                {
                                    "Model": "Model X",
                                    "US_total_price": "2635476000.00"
                                },
                                {
                                    "Model": "Model S",
                                    "US_total_price": "2142594100.00"
                                }
                            ]
                        },
                        "text/html": [
                            "<table>",
                            "<tr><th>Model</th><th>US_total_price</th></tr>",
                            "<tr><td>Model X</td><td>2635476000.00</td></tr>",
                            "<tr><td>Model S</td><td>2142594100.00</td></tr>",
                            "</table>"
                        ]
                    }
                }
            ],
            "execution_count": 74
        },
        {
            "cell_type": "markdown",
            "source": [
                "\"Model X\" had the highest price in the US with $2,635,476,000.00"
            ],
            "metadata": {
                "language": "sql",
                "azdata_cell_guid": "2c68c633-a0e7-4c80-9763-48c9d54f3d61"
            },
            "attachments": {}
        },
        {
            "cell_type": "markdown",
            "source": [
                "### **How many sales transactions were made for each car version in the US?**"
            ],
            "metadata": {
                "language": "sql",
                "azdata_cell_guid": "dd8d1917-f626-4e20-a458-0f14d90f4447"
            },
            "attachments": {}
        },
        {
            "cell_type": "code",
            "source": [
                "SELECT \r\n",
                "\tVersion, \r\n",
                "\tCOUNT(*) AS no_sal_trans\r\n",
                "FROM CarSales\r\n",
                "WHERE Country = 'US'\r\n",
                "GROUP BY Version;"
            ],
            "metadata": {
                "language": "sql",
                "azdata_cell_guid": "60b6efe8-127d-457d-a24a-50985e2ae0f1"
            },
            "outputs": [
                {
                    "output_type": "display_data",
                    "data": {
                        "text/html": "(6 rows affected)"
                    },
                    "metadata": {}
                },
                {
                    "output_type": "display_data",
                    "data": {
                        "text/html": "Total execution time: 00:00:00.100"
                    },
                    "metadata": {}
                },
                {
                    "output_type": "execute_result",
                    "metadata": {},
                    "execution_count": 75,
                    "data": {
                        "application/vnd.dataresource+json": {
                            "schema": {
                                "fields": [
                                    {
                                        "name": "Version"
                                    },
                                    {
                                        "name": "no_sal_trans"
                                    }
                                ]
                            },
                            "data": [
                                {
                                    "Version": "P90D",
                                    "no_sal_trans": "24634"
                                },
                                {
                                    "Version": "75D AWD",
                                    "no_sal_trans": "6438"
                                },
                                {
                                    "Version": "60D AWD",
                                    "no_sal_trans": "7441"
                                },
                                {
                                    "Version": "90D AWD",
                                    "no_sal_trans": "3157"
                                },
                                {
                                    "Version": "75 RWD",
                                    "no_sal_trans": "11642"
                                },
                                {
                                    "Version": "90D",
                                    "no_sal_trans": "10157"
                                }
                            ]
                        },
                        "text/html": [
                            "<table>",
                            "<tr><th>Version</th><th>no_sal_trans</th></tr>",
                            "<tr><td>P90D</td><td>24634</td></tr>",
                            "<tr><td>75D AWD</td><td>6438</td></tr>",
                            "<tr><td>60D AWD</td><td>7441</td></tr>",
                            "<tr><td>90D AWD</td><td>3157</td></tr>",
                            "<tr><td>75 RWD</td><td>11642</td></tr>",
                            "<tr><td>90D</td><td>10157</td></tr>",
                            "</table>"
                        ]
                    }
                }
            ],
            "execution_count": 75
        },
        {
            "cell_type": "markdown",
            "source": [
                "### **Which car model had the highest revenue in Australia?**"
            ],
            "metadata": {
                "language": "sql",
                "azdata_cell_guid": "98448939-18aa-4de3-98fd-8f73cdd2f7a1"
            },
            "attachments": {}
        },
        {
            "cell_type": "code",
            "source": [
                "SELECT \r\n",
                "\tModel, \r\n",
                "\tROUND(SUM(Revenue), 2) AS AU_total_revenue\r\n",
                "FROM CarSales\r\n",
                "WHERE Country = 'Australia'\r\n",
                "GROUP BY Model\r\n",
                "ORDER BY AU_total_revenue DESC;\t"
            ],
            "metadata": {
                "language": "sql",
                "azdata_cell_guid": "b6677ee4-975e-4655-9de6-5ff3fbc37b13"
            },
            "outputs": [
                {
                    "output_type": "display_data",
                    "data": {
                        "text/html": "(2 rows affected)"
                    },
                    "metadata": {}
                },
                {
                    "output_type": "display_data",
                    "data": {
                        "text/html": "Total execution time: 00:00:00.046"
                    },
                    "metadata": {}
                },
                {
                    "output_type": "execute_result",
                    "metadata": {},
                    "execution_count": 76,
                    "data": {
                        "application/vnd.dataresource+json": {
                            "schema": {
                                "fields": [
                                    {
                                        "name": "Model"
                                    },
                                    {
                                        "name": "AU_total_revenue"
                                    }
                                ]
                            },
                            "data": [
                                {
                                    "Model": "Model X",
                                    "AU_total_revenue": "205742000.00"
                                },
                                {
                                    "Model": "Model S",
                                    "AU_total_revenue": "172822400.00"
                                }
                            ]
                        },
                        "text/html": [
                            "<table>",
                            "<tr><th>Model</th><th>AU_total_revenue</th></tr>",
                            "<tr><td>Model X</td><td>205742000.00</td></tr>",
                            "<tr><td>Model S</td><td>172822400.00</td></tr>",
                            "</table>"
                        ]
                    }
                }
            ],
            "execution_count": 76
        },
        {
            "cell_type": "markdown",
            "source": [
                "\"Model X\" had the highest price in Australia with $205,742,000.00"
            ],
            "metadata": {
                "language": "sql",
                "azdata_cell_guid": "7e9d8d28-e53c-41d6-acbd-376e7d1d2121"
            },
            "attachments": {}
        },
        {
            "cell_type": "markdown",
            "source": [
                "### <span style=\"font-size: 16.38px;\"><b>Which purchase type is most commonly used by people?</b></span>"
            ],
            "metadata": {
                "language": "sql",
                "azdata_cell_guid": "69a9b287-00ce-458a-be33-40cbd5cdfeea"
            },
            "attachments": {}
        },
        {
            "cell_type": "code",
            "source": [
                "SELECT \r\n",
                "\tTOP 1 Purchase_type, \r\n",
                "\tCOUNT(*) AS no_of_purchases \r\n",
                "FROM CarSales\r\n",
                "GROUP BY Purchase_type\r\n",
                "ORDER BY no_of_purchases DESC;"
            ],
            "metadata": {
                "language": "sql",
                "azdata_cell_guid": "f42366c5-1c1e-4a51-bf80-a58a8a480efd"
            },
            "outputs": [
                {
                    "output_type": "display_data",
                    "data": {
                        "text/html": "(1 row affected)"
                    },
                    "metadata": {}
                },
                {
                    "output_type": "display_data",
                    "data": {
                        "text/html": "Total execution time: 00:00:00.101"
                    },
                    "metadata": {}
                },
                {
                    "output_type": "execute_result",
                    "metadata": {},
                    "execution_count": 77,
                    "data": {
                        "application/vnd.dataresource+json": {
                            "schema": {
                                "fields": [
                                    {
                                        "name": "Purchase_type"
                                    },
                                    {
                                        "name": "no_of_purchases"
                                    }
                                ]
                            },
                            "data": [
                                {
                                    "Purchase_type": "Deposit",
                                    "no_of_purchases": "45976"
                                }
                            ]
                        },
                        "text/html": [
                            "<table>",
                            "<tr><th>Purchase_type</th><th>no_of_purchases</th></tr>",
                            "<tr><td>Deposit</td><td>45976</td></tr>",
                            "</table>"
                        ]
                    }
                }
            ],
            "execution_count": 77
        },
        {
            "cell_type": "markdown",
            "source": [
                "\"Deposit\" is the most commonly purchase type with 45,976 number of purchases."
            ],
            "metadata": {
                "language": "sql",
                "azdata_cell_guid": "612609aa-0d95-4dfc-b6b6-5e5ed5efa6e1"
            },
            "attachments": {}
        },
        {
            "cell_type": "markdown",
            "source": [
                "### **What is the distribution of purchase types for each car model?**"
            ],
            "metadata": {
                "language": "sql",
                "azdata_cell_guid": "d35ec883-5919-4385-a760-c24653a78bb3"
            },
            "attachments": {}
        },
        {
            "cell_type": "code",
            "source": [
                "SELECT \r\n",
                "\tModel, \r\n",
                "\tPurchase_type, \r\n",
                "\tCOUNT(*) AS Frequency\r\n",
                "FROM CarSales\r\n",
                "GROUP BY Model, Purchase_type\r\n",
                "ORDER BY Model, Frequency DESC;"
            ],
            "metadata": {
                "language": "sql",
                "azdata_cell_guid": "35006d88-9c8b-4199-84f0-2141c4cd98db"
            },
            "outputs": [
                {
                    "output_type": "display_data",
                    "data": {
                        "text/html": "(4 rows affected)"
                    },
                    "metadata": {}
                },
                {
                    "output_type": "display_data",
                    "data": {
                        "text/html": "Total execution time: 00:00:00.196"
                    },
                    "metadata": {}
                },
                {
                    "output_type": "execute_result",
                    "metadata": {},
                    "execution_count": 78,
                    "data": {
                        "application/vnd.dataresource+json": {
                            "schema": {
                                "fields": [
                                    {
                                        "name": "Model"
                                    },
                                    {
                                        "name": "Purchase_type"
                                    },
                                    {
                                        "name": "Frequency"
                                    }
                                ]
                            },
                            "data": [
                                {
                                    "Model": "Model S",
                                    "Purchase_type": "Deposit",
                                    "Frequency": "20852"
                                },
                                {
                                    "Model": "Model S",
                                    "Purchase_type": "Cash purchase",
                                    "Frequency": "17773"
                                },
                                {
                                    "Model": "Model X",
                                    "Purchase_type": "Deposit",
                                    "Frequency": "25124"
                                },
                                {
                                    "Model": "Model X",
                                    "Purchase_type": "Cash purchase",
                                    "Frequency": "21843"
                                }
                            ]
                        },
                        "text/html": [
                            "<table>",
                            "<tr><th>Model</th><th>Purchase_type</th><th>Frequency</th></tr>",
                            "<tr><td>Model S</td><td>Deposit</td><td>20852</td></tr>",
                            "<tr><td>Model S</td><td>Cash purchase</td><td>17773</td></tr>",
                            "<tr><td>Model X</td><td>Deposit</td><td>25124</td></tr>",
                            "<tr><td>Model X</td><td>Cash purchase</td><td>21843</td></tr>",
                            "</table>"
                        ]
                    }
                }
            ],
            "execution_count": 78
        },
        {
            "cell_type": "markdown",
            "source": [
                "### **What is the average gross profit for each purchase type?**"
            ],
            "metadata": {
                "language": "sql",
                "azdata_cell_guid": "56d5300b-f2a5-48f0-b2c5-8852556f4282"
            },
            "attachments": {}
        },
        {
            "cell_type": "code",
            "source": [
                "SELECT \r\n",
                "\tPurchase_type, \r\n",
                "\tAVG(Gross_Profit) AS AVG_Total_Sales\r\n",
                "FROM CarSales\r\n",
                "GROUP BY Purchase_type\r\n",
                "ORDER BY AVG_Total_Sales DESC;"
            ],
            "metadata": {
                "language": "sql",
                "azdata_cell_guid": "34f2af5c-bf02-4876-82e5-6dcf3c73ad58"
            },
            "outputs": [
                {
                    "output_type": "display_data",
                    "data": {
                        "text/html": "(2 rows affected)"
                    },
                    "metadata": {}
                },
                {
                    "output_type": "display_data",
                    "data": {
                        "text/html": "Total execution time: 00:00:00.146"
                    },
                    "metadata": {}
                },
                {
                    "output_type": "execute_result",
                    "metadata": {},
                    "execution_count": 79,
                    "data": {
                        "application/vnd.dataresource+json": {
                            "schema": {
                                "fields": [
                                    {
                                        "name": "Purchase_type"
                                    },
                                    {
                                        "name": "AVG_Total_Sales"
                                    }
                                ]
                            },
                            "data": [
                                {
                                    "Purchase_type": "Deposit",
                                    "AVG_Total_Sales": "22095.055110"
                                },
                                {
                                    "Purchase_type": "Cash purchase",
                                    "AVG_Total_Sales": "21771.944176"
                                }
                            ]
                        },
                        "text/html": [
                            "<table>",
                            "<tr><th>Purchase_type</th><th>AVG_Total_Sales</th></tr>",
                            "<tr><td>Deposit</td><td>22095.055110</td></tr>",
                            "<tr><td>Cash purchase</td><td>21771.944176</td></tr>",
                            "</table>"
                        ]
                    }
                }
            ],
            "execution_count": 79
        },
        {
            "cell_type": "markdown",
            "source": [
                "### **Which country had the highest number of cash purchases?**"
            ],
            "metadata": {
                "language": "sql",
                "azdata_cell_guid": "04e3b44c-9e24-4441-97dc-3a90f41f5c1a"
            },
            "attachments": {}
        },
        {
            "cell_type": "code",
            "source": [
                "SELECT \r\n",
                "\tTOP 1 Country, \r\n",
                "\tCOUNT(*) AS cash_Purchase\r\n",
                "FROM CarSales\r\n",
                "WHERE Purchase_type = 'Cash purchase'\r\n",
                "GROUP BY Country\r\n",
                "ORDER BY cash_Purchase DESC;"
            ],
            "metadata": {
                "language": "sql",
                "azdata_cell_guid": "16dcff52-67c6-4928-8745-ce06124bb5e4"
            },
            "outputs": [
                {
                    "output_type": "display_data",
                    "data": {
                        "text/html": "(1 row affected)"
                    },
                    "metadata": {}
                },
                {
                    "output_type": "display_data",
                    "data": {
                        "text/html": "Total execution time: 00:00:00.068"
                    },
                    "metadata": {}
                },
                {
                    "output_type": "execute_result",
                    "metadata": {},
                    "execution_count": 80,
                    "data": {
                        "application/vnd.dataresource+json": {
                            "schema": {
                                "fields": [
                                    {
                                        "name": "Country"
                                    },
                                    {
                                        "name": "cash_Purchase"
                                    }
                                ]
                            },
                            "data": [
                                {
                                    "Country": "US",
                                    "cash_Purchase": "28788"
                                }
                            ]
                        },
                        "text/html": [
                            "<table>",
                            "<tr><th>Country</th><th>cash_Purchase</th></tr>",
                            "<tr><td>US</td><td>28788</td></tr>",
                            "</table>"
                        ]
                    }
                }
            ],
            "execution_count": 80
        },
        {
            "cell_type": "markdown",
            "source": [
                "The United States (US) recorded the highest number of cash purchases, with a total of 28,788 transactions."
            ],
            "metadata": {
                "language": "sql",
                "azdata_cell_guid": "7c66b6bd-fc1b-4170-b522-2177926c978e"
            },
            "attachments": {}
        },
        {
            "cell_type": "markdown",
            "source": [
                "### **Which country had the highest number of Deposit purchases?**"
            ],
            "metadata": {
                "language": "sql",
                "azdata_cell_guid": "620d2752-cdf5-4966-9b29-6709670d5c99"
            },
            "attachments": {}
        },
        {
            "cell_type": "code",
            "source": [
                "SELECT \r\n",
                "\tTOP 1 Country, \r\n",
                "\tCOUNT(*) AS depo_Purchase\r\n",
                "FROM CarSales\r\n",
                "WHERE Purchase_type = 'Deposit'\r\n",
                "GROUP BY Country\r\n",
                "ORDER BY depo_Purchase DESC;"
            ],
            "metadata": {
                "language": "sql",
                "azdata_cell_guid": "7ab8fc46-5fe7-45a2-ae5a-2d0f4ec3a194"
            },
            "outputs": [
                {
                    "output_type": "display_data",
                    "data": {
                        "text/html": "(1 row affected)"
                    },
                    "metadata": {}
                },
                {
                    "output_type": "display_data",
                    "data": {
                        "text/html": "Total execution time: 00:00:00.166"
                    },
                    "metadata": {}
                },
                {
                    "output_type": "execute_result",
                    "metadata": {},
                    "execution_count": 81,
                    "data": {
                        "application/vnd.dataresource+json": {
                            "schema": {
                                "fields": [
                                    {
                                        "name": "Country"
                                    },
                                    {
                                        "name": "depo_Purchase"
                                    }
                                ]
                            },
                            "data": [
                                {
                                    "Country": "US",
                                    "depo_Purchase": "34681"
                                }
                            ]
                        },
                        "text/html": [
                            "<table>",
                            "<tr><th>Country</th><th>depo_Purchase</th></tr>",
                            "<tr><td>US</td><td>34681</td></tr>",
                            "</table>"
                        ]
                    }
                }
            ],
            "execution_count": 81
        },
        {
            "cell_type": "markdown",
            "source": [
                "we also see that the United States (US) recorded the highest number of Deposit with 34,681 purchases transactions."
            ],
            "metadata": {
                "language": "sql",
                "azdata_cell_guid": "8aaf314e-8dc2-4a5e-9a14-4e306aadf632"
            },
            "attachments": {}
        },
        {
            "cell_type": "markdown",
            "source": [
                "### **Which purchase type is most commonly used in each country?**"
            ],
            "metadata": {
                "language": "sql",
                "azdata_cell_guid": "8b5afbb1-48a3-46e1-b3d1-7c2f34e33a90"
            },
            "attachments": {}
        },
        {
            "cell_type": "code",
            "source": [
                "SELECT Country, Purchase_type\r\n",
                "FROM (SELECT Country, Purchase_type, ROW_NUMBER() OVER(PARTITION BY Country ORDER BY count(*) DESC) AS RN\r\n",
                "\t\tFROM CarSales\r\n",
                "\t\tGROUP BY Country, Purchase_type) as NewTable\r\n",
                "WHERE RN = 1;"
            ],
            "metadata": {
                "language": "sql",
                "azdata_cell_guid": "e903e9d8-5a6f-4240-9429-0cef277717e9"
            },
            "outputs": [
                {
                    "output_type": "display_data",
                    "data": {
                        "text/html": "(3 rows affected)"
                    },
                    "metadata": {}
                },
                {
                    "output_type": "display_data",
                    "data": {
                        "text/html": "Total execution time: 00:00:00.108"
                    },
                    "metadata": {}
                },
                {
                    "output_type": "execute_result",
                    "metadata": {},
                    "execution_count": 82,
                    "data": {
                        "application/vnd.dataresource+json": {
                            "schema": {
                                "fields": [
                                    {
                                        "name": "Country"
                                    },
                                    {
                                        "name": "Purchase_type"
                                    }
                                ]
                            },
                            "data": [
                                {
                                    "Country": "Australia",
                                    "Purchase_type": "Deposit"
                                },
                                {
                                    "Country": "Germany",
                                    "Purchase_type": "Deposit"
                                },
                                {
                                    "Country": "US",
                                    "Purchase_type": "Deposit"
                                }
                            ]
                        },
                        "text/html": [
                            "<table>",
                            "<tr><th>Country</th><th>Purchase_type</th></tr>",
                            "<tr><td>Australia</td><td>Deposit</td></tr>",
                            "<tr><td>Germany</td><td>Deposit</td></tr>",
                            "<tr><td>US</td><td>Deposit</td></tr>",
                            "</table>"
                        ]
                    }
                }
            ],
            "execution_count": 82
        },
        {
            "cell_type": "markdown",
            "source": [
                "\"Deposit\" is the most commonly used purchase type in each country."
            ],
            "metadata": {
                "language": "sql",
                "azdata_cell_guid": "9670a62b-6f68-4974-b260-a3c9257dad38"
            },
            "attachments": {}
        },
        {
            "cell_type": "markdown",
            "source": [
                "### **How does the average price vary for different purchase types in the US?**"
            ],
            "metadata": {
                "language": "sql",
                "azdata_cell_guid": "b1d41b39-03a4-4d05-85eb-a45021776683"
            },
            "attachments": {}
        },
        {
            "cell_type": "code",
            "source": [
                "SELECT \r\n",
                "\tPurchase_type, \r\n",
                "\tROUND(AVG(Revenue), 3) AS avg_sales\r\n",
                "FROM CarSales\r\n",
                "WHERE Country = 'US'\r\n",
                "GROUP BY Purchase_type;\t"
            ],
            "metadata": {
                "language": "sql",
                "azdata_cell_guid": "dac71e07-2743-4ed7-8863-c93739431901"
            },
            "outputs": [
                {
                    "output_type": "display_data",
                    "data": {
                        "text/html": "(2 rows affected)"
                    },
                    "metadata": {}
                },
                {
                    "output_type": "display_data",
                    "data": {
                        "text/html": "Total execution time: 00:00:00.113"
                    },
                    "metadata": {}
                },
                {
                    "output_type": "execute_result",
                    "metadata": {},
                    "execution_count": 83,
                    "data": {
                        "application/vnd.dataresource+json": {
                            "schema": {
                                "fields": [
                                    {
                                        "name": "Purchase_type"
                                    },
                                    {
                                        "name": "avg_sales"
                                    }
                                ]
                            },
                            "data": [
                                {
                                    "Purchase_type": "Cash purchase",
                                    "avg_sales": "75226.455000"
                                },
                                {
                                    "Purchase_type": "Deposit",
                                    "avg_sales": "75328.015000"
                                }
                            ]
                        },
                        "text/html": [
                            "<table>",
                            "<tr><th>Purchase_type</th><th>avg_sales</th></tr>",
                            "<tr><td>Cash purchase</td><td>75226.455000</td></tr>",
                            "<tr><td>Deposit</td><td>75328.015000</td></tr>",
                            "</table>"
                        ]
                    }
                }
            ],
            "execution_count": 83
        },
        {
            "cell_type": "markdown",
            "source": [
                "the \"Cash purchase\" method showed an average price of $75,226.455, while the \"Deposit\" method had a slightly higher average price of $75,328.015."
            ],
            "metadata": {
                "language": "sql",
                "azdata_cell_guid": "c7d7c883-35ab-46cc-bdfb-31f359a89254"
            },
            "attachments": {}
        },
        {
            "cell_type": "markdown",
            "source": [
                "### **Calculating the average car price and gross profit**\n",
                "\n",
                "### **Calculating the standard deviation of price and gross profits**"
            ],
            "metadata": {
                "language": "sql",
                "azdata_cell_guid": "9122fb20-7446-4b63-89b7-ff6e20633b69"
            },
            "attachments": {}
        },
        {
            "cell_type": "code",
            "source": [
                "SELECT\r\n",
                "  AVG(Revenue) AS Price_Mean,\r\n",
                "  STDEV(Revenue) AS Price_StdDev,\r\n",
                "  AVG(Gross_Profit) AS Profit_Mean,\r\n",
                "  STDEV(Gross_Profit) AS Profit_StdDev\r\n",
                "FROM CarSales;"
            ],
            "metadata": {
                "language": "sql",
                "azdata_cell_guid": "9c3d3771-49b9-46fd-a030-be52661130ae"
            },
            "outputs": [
                {
                    "output_type": "display_data",
                    "data": {
                        "text/html": "(1 row affected)"
                    },
                    "metadata": {}
                },
                {
                    "output_type": "display_data",
                    "data": {
                        "text/html": "Total execution time: 00:00:00.117"
                    },
                    "metadata": {}
                },
                {
                    "output_type": "execute_result",
                    "metadata": {},
                    "execution_count": 84,
                    "data": {
                        "application/vnd.dataresource+json": {
                            "schema": {
                                "fields": [
                                    {
                                        "name": "Price_Mean"
                                    },
                                    {
                                        "name": "Price_StdDev"
                                    },
                                    {
                                        "name": "Profit_Mean"
                                    },
                                    {
                                        "name": "Profit_StdDev"
                                    }
                                ]
                            },
                            "data": [
                                {
                                    "Price_Mean": "75253.148658",
                                    "Price_StdDev": "4199.494953581349",
                                    "Profit_Mean": "21945.504185",
                                    "Profit_StdDev": "10328.412364791378"
                                }
                            ]
                        },
                        "text/html": [
                            "<table>",
                            "<tr><th>Price_Mean</th><th>Price_StdDev</th><th>Profit_Mean</th><th>Profit_StdDev</th></tr>",
                            "<tr><td>75253.148658</td><td>4199.494953581349</td><td>21945.504185</td><td>10328.412364791378</td></tr>",
                            "</table>"
                        ]
                    }
                }
            ],
            "execution_count": 84
        },
        {
            "cell_type": "markdown",
            "source": [
                "### **Is there a correlation between car price and gross profit?**"
            ],
            "metadata": {
                "language": "sql",
                "azdata_cell_guid": "e89999f8-c9b7-47c0-b769-f0308d99aae5"
            },
            "attachments": {}
        },
        {
            "cell_type": "code",
            "source": [
                "SELECT \r\n",
                "  (SUM(Revenue * Gross_Profit) - COUNT(*) * AVG(Revenue) * AVG(Gross_Profit)) /\r\n",
                "  (COUNT(*) * STDEV(Revenue) * STDEV(Gross_Profit)) AS CorrelationCoefficient\r\n",
                "FROM CarSales;"
            ],
            "metadata": {
                "language": "sql",
                "azdata_cell_guid": "48fa931f-fbe7-4c9a-81cb-6555253133b5"
            },
            "outputs": [
                {
                    "output_type": "display_data",
                    "data": {
                        "text/html": "(1 row affected)"
                    },
                    "metadata": {}
                },
                {
                    "output_type": "display_data",
                    "data": {
                        "text/html": "Total execution time: 00:00:00.114"
                    },
                    "metadata": {}
                },
                {
                    "output_type": "execute_result",
                    "metadata": {},
                    "execution_count": 85,
                    "data": {
                        "application/vnd.dataresource+json": {
                            "schema": {
                                "fields": [
                                    {
                                        "name": "CorrelationCoefficient"
                                    }
                                ]
                            },
                            "data": [
                                {
                                    "CorrelationCoefficient": "0.20384217667006208"
                                }
                            ]
                        },
                        "text/html": [
                            "<table>",
                            "<tr><th>CorrelationCoefficient</th></tr>",
                            "<tr><td>0.20384217667006208</td></tr>",
                            "</table>"
                        ]
                    }
                }
            ],
            "execution_count": 85
        },
        {
            "cell_type": "markdown",
            "source": [
                "Yes, there is a correlation between car price and gross profit.\n",
                "\n",
                "The correlation coefficient of 0.2039 between car price and gross profit is positive and close to zero, but not very strong. \n",
                "\n",
                " This suggests that there is a slight positive linear relationship between car price and gross profit, meaning that as car prices increase, \n",
                "\n",
                " there is a tendency for gross profit to also increase, but the relationship is not very strong."
            ],
            "metadata": {
                "language": "sql",
                "azdata_cell_guid": "e36e44d2-003b-4e5b-8c72-50131f6b8459"
            },
            "attachments": {}
        },
        {
            "cell_type": "markdown",
            "source": [
                "# **Dashboard**"
            ],
            "metadata": {
                "language": "sql",
                "azdata_cell_guid": "809e90b2-232f-4698-8abf-af6a08e1bb8b"
            },
            "attachments": {}
        },
        {
            "cell_type": "markdown",
            "source": [
                "## **For the Dashboard, check [Tesla_Car_Sales_Dashboard](https://www.novypro.com/project/tesla-car-sales) link**\r\n",
                "\r\n",
                "\r\n",
                "![photo_5942650041216912698_y](https://github.com/MohamedMohsen01/SQL-Projects/assets/109850173/cdd8f181-e8cf-44b3-a63c-64bef7db97f1)\r\n",
                "\r\n",
                "\r\n",
                "![photo_5942650041216912700_y](https://github.com/MohamedMohsen01/SQL-Projects/assets/109850173/275977ed-a989-435a-bf85-eb451e2cd0cc)"
            ],
            "metadata": {
                "language": "sql",
                "azdata_cell_guid": "273f209e-6fbb-4544-a904-42df5e8ffe9e"
            },
            "attachments": {}
        },
        {
            "cell_type": "markdown",
            "source": [
                "# **Results and Insights**"
            ],
            "metadata": {
                "language": "sql",
                "azdata_cell_guid": "f03e123a-c497-4155-bb7e-9a1a8a9599a9"
            },
            "attachments": {}
        },
        {
            "cell_type": "markdown",
            "source": [
                "- 'Model X' outperformed 'Model S' in terms of revenue, with a difference of $669,8 million during the entire timeframe.\r\n",
                "\r\n",
                "- 'Model X' generated the highest total gross profit, amounting to $1,039,560,332.\r\n",
                "\r\n",
                "- In 2016, 'Model X' achieved $1,809,338,000.00 in total sales, while 'Model S' had $1,443,879,100.00.  In 2017, - - 'Model X' reached $1,746,092,000.00 in total sales, and 'Model S' had $1,441,758,400.\r\n",
                "\r\n",
                "- 'Model X' emerged as the best-performing model with total sales of $3,555,430,000.\r\n",
                "\r\n",
                "- Among the car versions in 'Model X', the 'P90D' version achieved the highest revenue of $2,490,470,000.00, while the '90D' version generated $1,064,960,000.\r\n",
                "\r\n",
                "- Within 'Model S', the '75 RWD' version was the top-selling car version, while the '90D AWD' version had the least sales.\r\n",
                "\r\n",
                "- The 'P90D' car version had the highest sales with $2,490,470,000.00, while the '90D AWD' car version had the lowest sales with $393,916,700.00.\r\n",
                "\r\n",
                "- The 'P90D' car version generated the highest total gross profit among all versions.\r\n",
                "\r\n",
                "- The 'P90D' car version was the most popular among buyers, with 33,655 cars sold, while the '90D AWD' version had 4,441 sales.\r\n",
                "\r\n",
                "- The US had the highest demand for Tesla cars, with 63,469 cars sold, followed by Germany with 16,956 cars.\r\n",
                "\r\n",
                "- Among different car versions in Australia, the '90D AWD' version had the highest average gross profit, while in Germany, the '75D AWD' version had the highest average gross profit. In the US, the '90D AWD' version had the highest average gross profit.\r\n",
                "\r\n",
                "- The 'Model X' was the most popular car model in all countries.\r\n",
                "\r\n",
                "- The 'P90D' car version was the most sold version in each country.\r\n",
                "\r\n",
                "- The '90D AWD' car version was the most expensive version in each country.\r\n",
                "\r\n",
                "- The highest car price in all three countries was $88,700.00 for the '90D AWD' car version.\r\n",
                "\r\n",
                "- In 2016, 'Model X' was sold 17,553 times, and 'Model S' was sold 14,592 times in the USA. In 2017, 'Model X' was sold 17,238 times, and 'Model S' was sold 14,086 times.\r\n",
                "\r\n",
                "- The data showed a difference in sales between the first and second quarter of 2016. However, there was no significant difference between the first and second quarter of 2017.\r\n",
                "\r\n",
                "- There was a difference in sales between car models in the first and second quarter of 2016. However, the difference was not substantial in the first and second quarter of 2017.\r\n",
                "\r\n",
                "- July had the highest revenue with $564,770,000.00, while January had the lowest revenue.\r\n",
                "\r\n",
                "- Gross profits followed a similar trend to revenue, with July having the highest monthly gross profit.\r\n",
                "\r\n",
                "- April had the highest revenue in 2016 with $283,424,700.00, and July had the highest revenue in 2017 with $282,845,500.00. October had the lowest revenue in 2017 with $244,003,900.00.\r\n",
                "\r\n",
                "- A total of two unique car models were sold in Australia.\r\n",
                "\r\n",
                "- Germany generated a total gross profit of $378,564,400.00 from all sales.\r\n",
                "\r\n",
                "- The average revenue of all cars sold in the US was $75,281.950.\r\n",
                "\r\n",
                "- The '90D AWD' car version had the highest total gross profit in the US.\r\n",
                "\r\n",
                "- 'Model X' had the highest price in the US with $2,635,476,000.00.\r\n",
                "\r\n",
                "- The '90D AWD' car version had the highest number of sales transactions in the US.\r\n",
                "\r\n",
                "- 'Model X' had the highest revenue in Australia with $205,742,000.00.\r\n",
                "\r\n",
                "- The \"Deposit\" purchase type was the most commonly used, with 45,976 transactions.\r\n",
                "\r\n",
                "- The \"Deposit\" purchase type showed an average gross profit of $22,095.055, while \"Cash Purchase\" had an average gross profit of $21,771.944.\r\n",
                "\r\n",
                "- The US had the highest number of cash purchases, with 30,628 transactions.\r\n",
                "\r\n",
                "- The US had the highest number of deposit purchases, with 30,841 transactions."
            ],
            "metadata": {
                "language": "sql",
                "azdata_cell_guid": "6acddaf1-390b-4f9a-9b82-0a0c1eac44da"
            },
            "attachments": {}
        },
        {
            "cell_type": "markdown",
            "source": [
                "# **Conclusion**"
            ],
            "metadata": {
                "language": "sql",
                "azdata_cell_guid": "da385eee-9fcd-48a8-9bde-bfb948c31d76"
            },
            "attachments": {}
        },
        {
            "cell_type": "markdown",
            "source": [
                "Based on the comprehensive exploratory data analysis conducted on the Tesla car sales data, several valuable insights have been obtained. \r\n",
                "\r\n",
                "- 'Model X' emerged as the top-performing car model with the highest total revenue and gross profit, while the 'P90D' car version stood out as the most popular and highest-grossing version.\r\n",
                "\r\n",
                "- The US was the most significant market for Tesla cars, contributing the highest number of sales and revenue. It also displayed a strong preference for the \"Deposit\" purchase type. The '90D AWD' car version demonstrated consistent performance, achieving the highest average gross profit in multiple regions.\r\n",
                "\r\n",
                "- Understanding the performance trends, key selling months, and purchase preferences will assist in devising effective sales strategies and driving revenue growth. It is recommended to focus marketing efforts on the 'Model X' and 'P90D' version, particularly in regions with high demand. Additionally, exploring the reasons behind the popularity of the \"Deposit\" purchase type may provide valuable insights into consumer behavior.\r\n",
                "\r\n",
                "- It is crucial to continuously monitor and update the sales strategy based on changing market dynamics to stay competitive and maximize profitability. The correlation between car price and gross profit emphasizes the importance of pricing decisions in achieving higher profitability."
            ],
            "metadata": {
                "language": "sql",
                "azdata_cell_guid": "621a1007-fb21-4d53-8829-1bf21b079375"
            },
            "attachments": {}
        },
        {
            "cell_type": "markdown",
            "source": [
                "# **Recommendations**"
            ],
            "metadata": {
                "language": "sql",
                "azdata_cell_guid": "a5bfddf0-b144-4ec4-9c9a-a7d1298cd968"
            },
            "attachments": {}
        },
        {
            "cell_type": "markdown",
            "source": [
                "\r\n",
                "- Focus on promoting and marketing the 'Model X' as it has been the top-performing car model in terms of total revenue and gross profit. Highlight its unique features and advantages to attract more customers.\r\n",
                "- Consider offering special promotions or incentives for the 'P90D' car version, as it has proven to be the most popular and highest-grossing version. This can further boost its sales and profitability.\r\n",
                "\r\n",
                "- Concentrate marketing efforts on regions with high demand for Tesla cars, particularly the United States and Germany. These regions have shown the highest sales and revenue, making them crucial markets for continued growth.\r\n",
                "- Analyze the factors contributing to the success in these regions and tailor marketing strategies to address the specific preferences and needs of the customers there.\r\n",
                "\r\n",
                "- Leverage the knowledge of high-performing months, such as July, to plan targeted marketing campaigns and promotions during peak demand periods.\r\n",
                "- Analyze the reasons behind the difference in sales between the first and second quarter of 2016 and utilize the insights to optimize sales tactics during similar periods in the future.\r\n",
                "\r\n",
                "- Continue to monitor the correlation between car price and gross profit. Consider conducting price elasticity analysis to understand how pricing changes may impact profitability.\r\n",
                "- Explore dynamic pricing strategies that take into account market demand and customer preferences to optimize revenue and gross profit.\r\n",
                "\r\n",
                "- Investigate the reasons behind the popularity of the \"Deposit\" purchase type and identify the factors driving this preference. Use this information to tailor marketing messages and incentives to attract more customers to this purchase option.\r\n",
                "\r\n",
                "\r\n",
                "- Establish a system for regular data monitoring and analysis to keep track of changing market dynamics and customer preferences.\r\n",
                "- Use insights from ongoing analysis to continuously refine sales strategies and improve overall performance.\r\n",
                "\r\n",
                "\r\n",
                "- Conduct a competitive analysis to understand the strengths and weaknesses of competitors in the electric vehicle market. Use this information to identify opportunities for differentiation and innovation.\r\n",
                "\r\n",
                "- Collect customer feedback and conduct surveys to gauge customer satisfaction levels and identify areas for improvement in products and services.\r\n",
                "- Address any issues or concerns raised by customers promptly to ensure a positive customer experience and enhance brand loyalty.\r\n",
                ""
            ],
            "metadata": {
                "language": "sql",
                "azdata_cell_guid": "5f6a422a-ed11-4fcb-8692-16375657a839"
            },
            "attachments": {}
        }
    ]
}